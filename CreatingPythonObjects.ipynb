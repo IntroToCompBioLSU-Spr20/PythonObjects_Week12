{
 "cells": [
  {
   "cell_type": "markdown",
   "metadata": {},
   "source": [
    "# Creating Custom Objects in Python (an example)"
   ]
  },
  {
   "cell_type": "markdown",
   "metadata": {},
   "source": [
    "Let's say we're doing a study where we collect different organisms and want to store information about them. In this case, we'll define a new `organism` class. Note how the structure of our class definition is similar to how we defined new functions, but we use the keyword `class`. Class definitions also have docstrings, like functions.\n",
    "\n",
    "After we define the class name and describe the class with a docstring, we can start to define the properties (variables) that instances of this class will have. In the case of organisms that we might collect, they could be assigned a unique `id` number, they will be assigned to a `species`, their location will be recorded with a `latitude` and `longitude`, and their characteristics will be measured and stored in `length` and `color` variables. Note that we've assigned default values to each of these characteristics. If an instance of `organism` is created without assigning values to these properties, these are the values they will have."
   ]
  },
  {
   "cell_type": "code",
   "execution_count": null,
   "metadata": {},
   "outputs": [],
   "source": [
    "class organism:\n",
    "    \"\"\"Class to hold information about organisms I collect.\"\"\"\n",
    "\n",
    "    id = \"\"\n",
    "    species = \"\" # Latin name\n",
    "    latitude = 0.0\n",
    "    longitude = 0.0\n",
    "    length = 0.0 # units are mm\n",
    "    color = \"\""
   ]
  },
  {
   "cell_type": "markdown",
   "metadata": {},
   "source": [
    "Now, as we collect organisms, we can create new instances of this class and assign the appropriate properties to the different instances. To create a new instance of the `organism` class, we can call the name of the class like a function"
   ]
  },
  {
   "cell_type": "code",
   "execution_count": null,
   "metadata": {},
   "outputs": [],
   "source": [
    "ind_1 = organism()"
   ]
  },
  {
   "cell_type": "markdown",
   "metadata": {},
   "source": [
    "Now, we can ask about the current values of `ind_1`'s properties. For example, if we look at its `latitude`, we should see the default value of 0.0."
   ]
  },
  {
   "cell_type": "code",
   "execution_count": null,
   "metadata": {},
   "outputs": [],
   "source": [
    "print(ind_1.latitude)"
   ]
  },
  {
   "cell_type": "markdown",
   "metadata": {},
   "source": [
    "However, if we try to look up a property that doesn't exist (like height), we should get an error."
   ]
  },
  {
   "cell_type": "code",
   "execution_count": null,
   "metadata": {},
   "outputs": [],
   "source": [
    "print(ind_1.height)"
   ]
  },
  {
   "cell_type": "markdown",
   "metadata": {},
   "source": [
    "Note how we're accessing the properties of an instance by using the dot operator - `.`. We type the name of the instance, followed by `.`, followed by the name of the property.\n",
    "\n",
    "Assigning values to the properties of our new object is just as easy as assigning values to any other variable."
   ]
  },
  {
   "cell_type": "code",
   "execution_count": null,
   "metadata": {},
   "outputs": [],
   "source": [
    "# Assign values to the properties of ind_1\n",
    "ind_1.id = \"LSUMNS 45884\"\n",
    "ind_1.species = \"Hyla_cinerea\"\n",
    "ind_1.latitude = 30.418419\n",
    "ind_1.longitude = -91.161132\n",
    "ind_1.length = 40.0\n",
    "ind_1.color = \"green\""
   ]
  },
  {
   "cell_type": "code",
   "execution_count": null,
   "metadata": {},
   "outputs": [],
   "source": [
    "# Check the properties we've set\n",
    "print(ind_1.id)\n",
    "print(ind_1.species)\n",
    "print(ind_1.latitude)\n",
    "print(ind_1.longitude)\n",
    "print(ind_1.length)\n",
    "print(ind_1.color)"
   ]
  },
  {
   "cell_type": "markdown",
   "metadata": {},
   "source": [
    "------------------"
   ]
  },
  {
   "cell_type": "markdown",
   "metadata": {},
   "source": [
    "### Practice Exercise\n",
    "\n",
    "Start by finding the closest bookshelf or think of your 3 favorite books and look them up online.\n",
    "\n",
    "(1) Create a custom book object class that has these properties: title, author(s), publisher, year."
   ]
  },
  {
   "cell_type": "code",
   "execution_count": null,
   "metadata": {},
   "outputs": [],
   "source": [
    "# Custom book class here"
   ]
  },
  {
   "cell_type": "markdown",
   "metadata": {},
   "source": [
    "(2) Now, create 3 instances of the book class and assign values for its properties."
   ]
  },
  {
   "cell_type": "code",
   "execution_count": null,
   "metadata": {},
   "outputs": [],
   "source": [
    "# Create 3 instances of books and define their properties"
   ]
  },
  {
   "cell_type": "markdown",
   "metadata": {},
   "source": [
    "(3) Last, create a list called `bookshelf = []` and add your books to this list."
   ]
  },
  {
   "cell_type": "code",
   "execution_count": null,
   "metadata": {},
   "outputs": [],
   "source": [
    "# Create your bookshelf and add your books"
   ]
  },
  {
   "cell_type": "markdown",
   "metadata": {},
   "source": [
    "-------------------------"
   ]
  },
  {
   "cell_type": "markdown",
   "metadata": {},
   "source": [
    "## Object Methods"
   ]
  },
  {
   "cell_type": "markdown",
   "metadata": {},
   "source": [
    "In addition to properties, objects can also have associated functions (i.e., methods) that define the possible behaviors of those objects. For example, let's say that we wanted an easy way to print out the location information about our organism. We could add a `printLatLon()` method to our class definition."
   ]
  },
  {
   "cell_type": "code",
   "execution_count": null,
   "metadata": {},
   "outputs": [],
   "source": [
    "class organism:\n",
    "    \"\"\"\n",
    "    Class to hold information about organisms I collect.\n",
    "    Includes a printLatLon() method.\n",
    "    \"\"\"\n",
    "\n",
    "    id = \"\"\n",
    "    species = \"\" # Latin name\n",
    "    latitude = 0.0\n",
    "    longitude = 0.0\n",
    "    length = 0.0 # units are mm\n",
    "    color = \"\"\n",
    "\n",
    "    def printLatLon(self):\n",
    "        print(\"(%f,%f)\" % (self.latitude,self.longitude))"
   ]
  },
  {
   "cell_type": "code",
   "execution_count": null,
   "metadata": {},
   "outputs": [],
   "source": [
    "# Recreating ind_1 with new class definition\n",
    "\n",
    "ind_1 = organism()\n",
    "ind_1.id = \"LSUMNS 45884\"\n",
    "ind_1.species = \"Hyla_cinerea\"\n",
    "ind_1.latitude = 30.418419\n",
    "ind_1.longitude = -91.161132\n",
    "ind_1.length = 40.0\n",
    "ind_1.color = \"green\""
   ]
  },
  {
   "cell_type": "markdown",
   "metadata": {},
   "source": [
    "To show how the new `printLatLon` method can be used"
   ]
  },
  {
   "cell_type": "code",
   "execution_count": null,
   "metadata": {},
   "outputs": [],
   "source": [
    "ind_1.printLatLon()"
   ]
  },
  {
   "cell_type": "markdown",
   "metadata": {},
   "source": [
    "Note that the `self` variable is a special reference to that instance of the object. So, to reference a property of the object from inside one of its methods, you'll need to start that variable reference with `self.<VARIABLE>`. Also, `self` _must_ be the first argument to all class methods.\n",
    "\n",
    "We could also create a more comprehensive method that printed out a nicely formatted record of all information about an organism."
   ]
  },
  {
   "cell_type": "code",
   "execution_count": null,
   "metadata": {},
   "outputs": [],
   "source": [
    "class organism:\n",
    "    \"\"\"Class to hold information about organisms I collect.\"\"\"\n",
    "\n",
    "    id = \"\"\n",
    "    species = \"\" # Latin name\n",
    "    latitude = 0.0\n",
    "    longitude = 0.0\n",
    "    length = 0.0 # units are mm\n",
    "    color = \"\"\n",
    "\n",
    "    def printLatLon(self):\n",
    "        \"\"\"This function prints the latitude and longitude.\"\"\"\n",
    "\n",
    "        print(\"(%f,%f)\" % (self.latitude,self.longitude))\n",
    "\n",
    "    def printSummary(self):\n",
    "        \"\"\"This methods prints all info about organism.\"\"\"\n",
    "\n",
    "        print(\"Organism %s is an individual of the species %s. It was collected at (%f,%f). It is %f mm long and is %s.\" % (self.id,self.species,self.latitude,self.longitude,self.length,self.color))"
   ]
  },
  {
   "cell_type": "code",
   "execution_count": null,
   "metadata": {},
   "outputs": [],
   "source": [
    "# Recreating ind_1 with new class definition\n",
    "\n",
    "ind_1 = organism()\n",
    "ind_1.id = \"LSUMNS 45884\"\n",
    "ind_1.species = \"Hyla_cinerea\"\n",
    "ind_1.latitude = 30.418419\n",
    "ind_1.longitude = -91.161132\n",
    "ind_1.length = 40.0\n",
    "ind_1.color = \"green\"\n",
    "\n",
    "ind_1.printSummary()"
   ]
  },
  {
   "cell_type": "markdown",
   "metadata": {},
   "source": [
    "## Object Constructors"
   ]
  },
  {
   "cell_type": "markdown",
   "metadata": {},
   "source": [
    "To set variables for each instance of an object in an organized way, objects have a special method known as a constructor. The purpose of the constructor is to provide a cohesive way to create new instances of a given class and set all variables appropriately as soon as the instance is created. The constructor always has a specific name with a special meaning: `__init__`.\n",
    "\n",
    "Usually, if you want to define the values of variables for that instance, they are passed as arguments to the constructor. So, to define a constructor for our organism class, we could do the following:"
   ]
  },
  {
   "cell_type": "code",
   "execution_count": null,
   "metadata": {},
   "outputs": [],
   "source": [
    "class organism:\n",
    "    \"\"\"Class to hold information about organisms I collect.\"\"\"\n",
    "\n",
    "    def __init__(self,id,sp,lat,lon,length,col):\n",
    "        self.id = id\n",
    "        self.species = sp\n",
    "        self.latitude = lat\n",
    "        self.longitude = lon\n",
    "        self.length = length\n",
    "        self.color = col"
   ]
  },
  {
   "cell_type": "markdown",
   "metadata": {},
   "source": [
    "Now, to create `ind_1` with the same properties as above, we could do this:"
   ]
  },
  {
   "cell_type": "code",
   "execution_count": null,
   "metadata": {},
   "outputs": [],
   "source": [
    "# I'm passing each argument on its own line, to make it easy to read\n",
    "\n",
    "ind_1 = organism(\"LSUMNS 45884\",  # id\n",
    "                 \"Hyla_cinerea\",  # species\n",
    "                 30.418419,       # latitude\n",
    "                 -91.161132,      # longitude\n",
    "                 40,              # length\n",
    "                 \"green\")         # color"
   ]
  },
  {
   "cell_type": "markdown",
   "metadata": {},
   "source": [
    "You can also create default values for all the variables, which are included in the list of arguments to the constructor."
   ]
  },
  {
   "cell_type": "code",
   "execution_count": null,
   "metadata": {},
   "outputs": [],
   "source": [
    "class organism:\n",
    "    \"\"\"Class to hold information about organisms I collect.\"\"\"\n",
    "\n",
    "    def __init__(self,id=\"1\",sp=\"genus_species\",lat=0.0,lon=0.0,length=0.0,col=\"black\"):\n",
    "        self.id = id\n",
    "        self.species = sp\n",
    "        self.latitude = lat\n",
    "        self.longitude = lon\n",
    "        self.length = length\n",
    "        self.color = col"
   ]
  },
  {
   "cell_type": "markdown",
   "metadata": {},
   "source": [
    "You can then create new individuals without passing any arguments to the constructor and the variables will take the default values:"
   ]
  },
  {
   "cell_type": "code",
   "execution_count": null,
   "metadata": {},
   "outputs": [],
   "source": [
    "ind_1 = organism() \n",
    "ind_1.id"
   ]
  },
  {
   "cell_type": "markdown",
   "metadata": {},
   "source": [
    "You can also pass just those variables you want to define, with the others taking default values"
   ]
  },
  {
   "cell_type": "code",
   "execution_count": null,
   "metadata": {},
   "outputs": [],
   "source": [
    "ind_1 = organism(col=\"green\")\n",
    "ind_1.id\n",
    "ind_1.color"
   ]
  },
  {
   "cell_type": "markdown",
   "metadata": {},
   "source": [
    "## Working With Objects"
   ]
  },
  {
   "cell_type": "markdown",
   "metadata": {},
   "source": [
    "Now that we've defined our custom class, we can work with instances of this class (objects) just like we would any other variable. For instance, we can create a list of organisms"
   ]
  },
  {
   "cell_type": "code",
   "execution_count": null,
   "metadata": {},
   "outputs": [],
   "source": [
    "myOrganisms = []\n",
    "\n",
    "myOrganisms.append(organism(id=\"45\",sp=\"Anolis_carolinensis\"))\n",
    "myOrganisms.append(organism(id=\"23\",sp=\"Hemidactylus_turcicus\",col=\"grey\"))\n",
    "\n",
    "for org in myOrganisms:\n",
    "    print(org.id)\n",
    "    print(org.color)"
   ]
  },
  {
   "cell_type": "markdown",
   "metadata": {},
   "source": [
    "We can also write custom functions that use our new objects"
   ]
  },
  {
   "cell_type": "code",
   "execution_count": null,
   "metadata": {},
   "outputs": [],
   "source": [
    "def sameSpecies(org1,org2):\n",
    "    if org1.species == org2.species:\n",
    "        return True\n",
    "    else:\n",
    "        return False"
   ]
  },
  {
   "cell_type": "code",
   "execution_count": null,
   "metadata": {},
   "outputs": [],
   "source": [
    "sameSpecies(myOrganisms[0],myOrganisms[1])"
   ]
  },
  {
   "cell_type": "code",
   "execution_count": null,
   "metadata": {},
   "outputs": [],
   "source": [
    "newOrg = organism(id=72,sp=\"Anolis_carolinensis\")\n",
    "\n",
    "sameSpecies(myOrganisms[0],newOrg)"
   ]
  }
 ],
 "metadata": {
  "kernelspec": {
   "display_name": "Python 3",
   "language": "python",
   "name": "python3"
  },
  "language_info": {
   "codemirror_mode": {
    "name": "ipython",
    "version": 3
   },
   "file_extension": ".py",
   "mimetype": "text/x-python",
   "name": "python",
   "nbconvert_exporter": "python",
   "pygments_lexer": "ipython3",
   "version": "3.7.6"
  }
 },
 "nbformat": 4,
 "nbformat_minor": 4
}
