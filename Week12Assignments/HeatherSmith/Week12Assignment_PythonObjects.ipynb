{
 "cells": [
  {
   "cell_type": "markdown",
   "metadata": {},
   "source": [
    "# Week 12 Assignment - Simulating Dispersal with Objects"
   ]
  },
  {
   "cell_type": "markdown",
   "metadata": {},
   "source": [
    "For this week's assignment, we're going to revisit the dispersal simulation that we worked on in Week 8. However, this time, we're going to use object-oriented programming. Specifically, we'll create two kinds of custom objects: `individual`s and `population`s.\n",
    "\n",
    "Each `individual` will have 3 attributes (an id number, a x-axis position, and a y-position) and 3 methods (a constructor, a method to move its position by 1 unit, and a method to print its coordinate location as x,y).\n",
    "\n",
    "Each `population` will have 2 attributes (a list of `individual`s in the `population` and a size for its map) and 4 methods (a constructor, a method to move each `individual` in the `population` 1 unit, a method to list the coordinate locations of all `individuals` in the `population`, and a method to display the locations of all `individual`s in the `population` as a scatter plot).\n",
    "\n",
    "More details are provided below."
   ]
  },
  {
   "cell_type": "code",
   "execution_count": 1,
   "metadata": {},
   "outputs": [],
   "source": [
    "# Import necessary modules\n",
    "\n",
    "import matplotlib.pyplot as plt\n",
    "import random"
   ]
  },
  {
   "cell_type": "code",
   "execution_count": 2,
   "metadata": {},
   "outputs": [],
   "source": [
    "# Define the individual class\n",
    "\n",
    "class individual:\n",
    "    # Class to hold informtion about individuals\n",
    "\n",
    "        \n",
    "    def __init__(self,id=\"id_undefined\",x=0.0,y=0.0): # Add default values for id, x, and y\n",
    "         # created default values for the variable\n",
    "        self.id=id\n",
    "        self.x=x\n",
    "        self.y=y\n",
    "        \n",
    "        \n",
    "        # The constructor should initialize the 3 attributes based on the values\n",
    "        # passed as arguments to the constructor.\n",
    "\n",
    "    \n",
    "    def move(self): \n",
    "        # method to create random movement\n",
    "        dirs = [\"u\",\"d\",\"l\",\"r\"]\n",
    "        pos = [self.x,self.y]\n",
    "        \n",
    "        moves = random.choice(dirs) # Randomly draws a direction - u, d, l, or r\n",
    "        if moves == \"u\" : # Test what direction was drawn and update position accordingly\n",
    "            pos[1]=pos[1]+1\n",
    "        elif moves == \"d\":\n",
    "            pos[1]=pos[1]-1\n",
    "        elif moves == \"l\":\n",
    "            pos[0]=pos[0]-1\n",
    "        elif moves == \"r\":\n",
    "            pos[0]=pos[0]+1\n",
    "        else:\n",
    "            print(\"Something's wrong! Direction is not u, d, l, or r.\")\n",
    "\n",
    "        self.x=pos[0]      ## setting x posititon to pos in above code\n",
    "        self.y=pos[1]\n",
    "        \n",
    "    \n",
    "        # Similar to the code from week 8, the code in this method should cause an\n",
    "        # individual to move one unit up, down, left, or right (chosen randomly).\n",
    "        # The x and y coordinates for this individual should be modified accordingly.\n",
    "\n",
    "        \n",
    "    def printLocation(self): # Add necessary arguments\n",
    "        # Print location of individuals id and location \n",
    "        \n",
    "        print(\"Individual %s is at the location (%f,%f).\" % (self.id,self.x,self.y))\n",
    "        \n",
    "        \n",
    "        # This method should print a text description of the \n",
    "        # individual's id and location (x,y).\n",
    "        "
   ]
  },
  {
   "cell_type": "code",
   "execution_count": null,
   "metadata": {},
   "outputs": [],
   "source": [
    "#test_indi=individual()   ### Testing previous methods\n",
    "#test_indi.id=\"test Indi\"\n",
    "\n",
    "#test_indi.move()\n",
    "\n",
    "#print(test_indi.x, test_indi.y)\n",
    "\n",
    "#test_indi.printLocation()"
   ]
  },
  {
   "cell_type": "code",
   "execution_count": 3,
   "metadata": {},
   "outputs": [],
   "source": [
    "# Define the population class\n",
    "\n",
    "class population:\n",
    "    # Defining class for populations\n",
    "    \n",
    "    \n",
    "    def __init__(self,mapSize=16,popSize=7): # Add default values.\n",
    "        # created default values for the variable\n",
    "        \n",
    "        self.mapSize=mapSize\n",
    "        self.popSize=popSize\n",
    "        \n",
    "        indis_list=[]    ## creating an empty list for individuals \n",
    "        \n",
    "        for i in range (0, popSize):\n",
    "            indis_list.append(individual(id=i+1))      ## append the individual to the empty list \n",
    "        self.indis_list=indis_list\n",
    "        \n",
    "        self.xlist=[]     ## creat x and y coordinate lists to use in plotting\n",
    "        self.ylist=[]\n",
    "        # This constructor should create a list of individuals in the population. The \n",
    "        # number of individuals should be equal to popSize and each individual should have\n",
    "        # a unique id. The constructor should also record the mapSize as an attribute.\n",
    "\n",
    "        \n",
    "    def move(self): # Add necessary arguments\n",
    "        # make the individual move\n",
    "        ## when writing this code i thought mapsize was number of movements, so my code makes the map size the same size as the number of movements\n",
    "        for i in self.indis_list:\n",
    "            for m in range(self.mapSize):      \n",
    "                i.move()\n",
    "        \n",
    "            \n",
    "        # The code in this method should use a for loop and cause each individual to \n",
    "        # move one unit up, down, left, or right. This code should call the .move() method\n",
    "        # of each individual.\n",
    "\n",
    "        \n",
    "    def listLocations(self): # Add necessary arguments\n",
    "        # create a list of locations\n",
    "        \n",
    "        for i in self.indis_list:   ## creat a list of locations of the individual and append the location to the x and y list for plotting \n",
    "            print(i.x, i.y)\n",
    "        \n",
    "        for i in self.indis_list:\n",
    "            self.xlist.append(i.x)\n",
    "            self.ylist.append(i.y)\n",
    "       \n",
    "        \n",
    "        # The code in this method should use a for loop to print a text description of\n",
    "        # each individual's location. This code should call the .printLocation() method\n",
    "        # of each individual.\n",
    "\n",
    "        \n",
    "    def draw(self): # Add necessary arguments\n",
    "        # Make a map\n",
    "        plt.scatter(self.xlist,self.ylist)\n",
    "        plt.show()\n",
    "        \n",
    "        # The code in this method should use the .plot() method from pyplot to \n",
    "        # create a scatterplot showing the locations of all individuals in this\n",
    "        # population. The length of the x- and y-axes should each by mapSize."
   ]
  },
  {
   "cell_type": "markdown",
   "metadata": {},
   "source": [
    "Now that we've created the individual and population classes, let's use them to create populations of individuals and watch them disperse across a map."
   ]
  },
  {
   "cell_type": "code",
   "execution_count": 4,
   "metadata": {},
   "outputs": [
    {
     "name": "stdout",
     "output_type": "stream",
     "text": [
      "-4.0 6.0\n",
      "-3.0 -5.0\n",
      "-8.0 2.0\n",
      "-3.0 -3.0\n",
      "-3.0 -5.0\n",
      "5.0 -9.0\n",
      "3.0 7.0\n"
     ]
    },
    {
     "data": {
      "image/png": "[encoded data removed]",
      "text/plain": [
       "<matplotlib.figure.Figure at 0x7f654e54b358>"
      ]
     },
     "metadata": {},
     "output_type": "display_data"
    }
   ],
   "source": [
    "# Create a new population with default values\n",
    "testpop=population()\n",
    "\n",
    "# Assign the number of time steps that individuals will move\n",
    "testpop.mapSize=100\n",
    "\n",
    "# Use a for loop to simulate the movement of individuals for the specified number of steps.\n",
    "testpop.move()\n",
    "\n",
    "# Use the .listLocations() method to list the locations of all individuals in the population.\n",
    "\n",
    "testpop.listLocations()\n",
    "\n",
    "# Use the .draw() method of the population to draw the map.\n",
    "testpop.draw()\n",
    "\n",
    "\n",
    "## i reorder printing the listlocations and drawing the map. My code depends on the listlocations to make the plot \n"
   ]
  },
  {
   "cell_type": "code",
   "execution_count": 7,
   "metadata": {},
   "outputs": [
    {
     "name": "stdout",
     "output_type": "stream",
     "text": [
      "10.0 8.0\n",
      "-5.0 1.0\n",
      "-9.0 3.0\n",
      "1.0 7.0\n",
      "-4.0 -4.0\n",
      "-6.0 6.0\n",
      "17.0 -7.0\n",
      "7.0 -11.0\n",
      "-3.0 -1.0\n",
      "1.0 -9.0\n",
      "18.0 -24.0\n",
      "5.0 -9.0\n",
      "6.0 0.0\n",
      "-9.0 -1.0\n"
     ]
    },
    {
     "data": {
      "image/png": "[encoded data removed]",
      "text/plain": [
       "<matplotlib.figure.Figure at 0x7f65469f18d0>"
      ]
     },
     "metadata": {},
     "output_type": "display_data"
    }
   ],
   "source": [
    "# Try creating a new population, simulating the movement of individuals, drawing a map,\n",
    "# and listing the location of individuals, but provide non-default values for the mapSize\n",
    "# and popSize of the population. Also, increase the number of time steps that individuals move.\n",
    "\n",
    "pop2=population(mapSize=200,popSize=14)\n",
    "pop2.move()\n",
    "pop2.listLocations()\n",
    "pop2.draw()"
   ]
  },
  {
   "cell_type": "code",
   "execution_count": null,
   "metadata": {},
   "outputs": [],
   "source": []
  }
 ],
 "metadata": {
  "kernelspec": {
   "display_name": "Python 3",
   "language": "python",
   "name": "python3"
  },
  "language_info": {
   "codemirror_mode": {
    "name": "ipython",
    "version": 3
   },
   "file_extension": ".py",
   "mimetype": "text/x-python",
   "name": "python",
   "nbconvert_exporter": "python",
   "pygments_lexer": "ipython3",
   "version": "3.6.4"
  }
 },
 "nbformat": 4,
 "nbformat_minor": 4
}
