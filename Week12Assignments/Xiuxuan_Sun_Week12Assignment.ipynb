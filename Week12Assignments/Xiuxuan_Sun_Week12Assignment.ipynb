{
 "cells": [
  {
   "cell_type": "markdown",
   "metadata": {},
   "source": [
    "# Week 12 Assignment - Simulating Dispersal with Objects"
   ]
  },
  {
   "cell_type": "markdown",
   "metadata": {},
   "source": [
    "For this week's assignment, we're going to revisit the dispersal simulation that we worked on in Week 8. However, this time, we're going to use object-oriented programming. Specifically, we'll create two kinds of custom objects: `individual`s and `population`s.\n",
    "\n",
    "Each `individual` will have 3 attributes (an id number, a x-axis position, and a y-position) and 3 methods (a constructor, a method to move its position by 1 unit, and a method to print its coordinate location as x,y).\n",
    "\n",
    "Each `population` will have 2 attributes (a list of `individual`s in the `population` and a size for its map) and 4 methods (a constructor, a method to move each `individual` in the `population` 1 unit, a method to list the coordinate locations of all `individuals` in the `population`, and a method to display the locations of all `individual`s in the `population` as a scatter plot).\n",
    "\n",
    "More details are provided below."
   ]
  },
  {
   "cell_type": "code",
   "execution_count": 47,
   "metadata": {},
   "outputs": [],
   "source": [
    "# Import necessary modules\n",
    "import random\n",
    "import matplotlib.pyplot as plt\n",
    "import numpy as np\n",
    "import copy\n",
    "import re"
   ]
  },
  {
   "cell_type": "code",
   "execution_count": 62,
   "metadata": {},
   "outputs": [],
   "source": [
    "# Define the individual class\n",
    "\n",
    "class individual:\n",
    "    # Add a docstring\n",
    "    id = \"\"    \n",
    "    x = 0\n",
    "    y = 0\n",
    "    \n",
    "        \n",
    "    def __init__(self, id=\"1\", x=0, y=0): # Add default values for id, x, and y\n",
    "        # Add a docstring        \n",
    "        \n",
    "        # The constructor should initialize the 3 attributes based on the values\n",
    "        # passed as arguments to the constructor.\n",
    "        self.id = id\n",
    "        self.x = x\n",
    "        self.y = y\n",
    "\n",
    "    \n",
    "    def move(self, dir): # Add necessary arguments\n",
    "        # Add a docstring\n",
    "        \n",
    "        # Similar to the code from week 8, the code in this method should cause an\n",
    "        # individual to move one unit up, down, left, or right (chosen randomly).\n",
    "        # The x and y coordinates for this individual should be modified accordingly.\n",
    "        \n",
    "        if dir == 'u': # Test what direction was drawn and update position accordingly\n",
    "            self.y = self.y + 1\n",
    "        elif dir == 'd':\n",
    "            self.y = self.y - 1\n",
    "        elif dir == 'l':\n",
    "            self.x = self.x - 1\n",
    "        elif dir == 'r':\n",
    "            self.x = self.x + 1    \n",
    "        else:\n",
    "            print(\"Something's wrong! Direction is not u, d, l, or r.\")\n",
    "            \n",
    "\n",
    "        \n",
    "    def printLocation(self): # Add necessary arguments\n",
    "        # Add a docstring\n",
    "        \n",
    "        # This method should print a text description of the \n",
    "        # individual's id and location (x,y).\n",
    "        \n",
    "        print(\"The individual's id is %s and corresponding x-y location is (%i,%i).\" % (self.id,self.x,self.y))"
   ]
  },
  {
   "cell_type": "code",
   "execution_count": 63,
   "metadata": {},
   "outputs": [],
   "source": [
    "# Define the population class\n",
    "\n",
    "class population:\n",
    "    # Add a docstring\n",
    "    indivList = []\n",
    "    mapSize = 0\n",
    "        \n",
    "    \n",
    "    def __init__(self,mapSize=12,popSize=12): # Add default values.\n",
    "        # Add a docstring\n",
    "                \n",
    "        # This constructor should create a list of individuals in the population. The \n",
    "        # number of individuals should be equal to popSize and each individual should have\n",
    "        # a unique id. The constructor should also record the mapSize as an attribute.\n",
    "        for i in range(popSize):\n",
    "            self.indivList.append(individual(id=str(i)))\n",
    "        self.mapSize = mapSize\n",
    "        \n",
    "    \n",
    "    def move(self, dirs=[\"u\",\"d\",\"l\",\"r\"]): # Add necessary arguments\n",
    "        # Add a docstring       \n",
    "        \n",
    "        # The code in this method should use a for loop and cause each individual to \n",
    "        # move one unit up, down, left, or right. This code should call the .move() method\n",
    "        # of each individual.\n",
    "        for indiv in self.indivList:\n",
    "            movedir = random.choice(dirs)            \n",
    "            indiv.move(dir=movedir)            \n",
    "\n",
    "        \n",
    "    def listLocations(self): # Add necessary arguments\n",
    "        # Add a docstring\n",
    "                \n",
    "        # The code in this method should use a for loop to print a text description of\n",
    "        # each individual's location. This code should call the .printLocation() method\n",
    "        # of each individual.\n",
    "        for indiv in self.indivList:\n",
    "            indiv.printLocation()\n",
    "\n",
    "        \n",
    "    def draw(self): # Add necessary arguments\n",
    "        # Add a docstring\n",
    "        xLoc = []\n",
    "        yLoc = []                        \n",
    "        \n",
    "        # The code in this method should use the .plot() method from pyplot to \n",
    "        # create a scatterplot showing the locations of all individuals in this\n",
    "        # population. The length of the x- and y-axes should each by mapSize.\n",
    "        for indiv in self.indivList:\n",
    "            xLoc.append(indiv.x)\n",
    "            yLoc.append(indiv.y)\n",
    "            \n",
    "        plt.axis([-self.mapSize,self.mapSize,-self.mapSize,self.mapSize])\n",
    "        plt.plot(xLoc,xLoc,'o')\n",
    "        plt.xlabel(\"x locations\")\n",
    "        plt.ylabel(\"y locations\")"
   ]
  },
  {
   "cell_type": "markdown",
   "metadata": {},
   "source": [
    "Now that we've created the individual and population classes, let's use them to create populations of individuals and watch them disperse across a map."
   ]
  },
  {
   "cell_type": "code",
   "execution_count": 64,
   "metadata": {},
   "outputs": [
    {
     "name": "stdout",
     "output_type": "stream",
     "text": [
      "The individual's id is 0 and corresponding x-y location is (0,0).\n",
      "The individual's id is 1 and corresponding x-y location is (-1,1).\n",
      "The individual's id is 2 and corresponding x-y location is (-2,2).\n",
      "The individual's id is 3 and corresponding x-y location is (3,-1).\n",
      "The individual's id is 4 and corresponding x-y location is (-1,3).\n",
      "The individual's id is 5 and corresponding x-y location is (1,1).\n",
      "The individual's id is 6 and corresponding x-y location is (1,1).\n",
      "The individual's id is 7 and corresponding x-y location is (2,0).\n",
      "The individual's id is 8 and corresponding x-y location is (-3,-3).\n",
      "The individual's id is 9 and corresponding x-y location is (0,2).\n",
      "The individual's id is 10 and corresponding x-y location is (-1,1).\n",
      "The individual's id is 11 and corresponding x-y location is (3,3).\n"
     ]
    },
    {
     "data": {
      "image/png": "[encoded data removed]",
      "text/plain": [
       "<Figure size 432x288 with 1 Axes>"
      ]
     },
     "metadata": {},
     "output_type": "display_data"
    }
   ],
   "source": [
    "# Create a new population with default values\n",
    "newPop = population()\n",
    "\n",
    "# Assign the number of time steps that individuals will move\n",
    "steps = 12\n",
    "\n",
    "# Use a for loop to simulate the movement of individuals for the specified number of steps.\n",
    "for num in range(steps):\n",
    "    newPop.move()    \n",
    "    \n",
    "# Use the .draw() method of the population to draw the map.\n",
    "newPop.draw()\n",
    "\n",
    "# Use the .listLocations() method to list the locations of all individuals in the population.\n",
    "newPop.listLocations()"
   ]
  },
  {
   "cell_type": "code",
   "execution_count": 65,
   "metadata": {},
   "outputs": [
    {
     "name": "stdout",
     "output_type": "stream",
     "text": [
      "The individual's id is 0 and corresponding x-y location is (-3,-3).\n",
      "The individual's id is 1 and corresponding x-y location is (3,-1).\n",
      "The individual's id is 2 and corresponding x-y location is (6,8).\n",
      "The individual's id is 3 and corresponding x-y location is (5,3).\n",
      "The individual's id is 4 and corresponding x-y location is (-4,-6).\n",
      "The individual's id is 5 and corresponding x-y location is (5,-9).\n",
      "The individual's id is 6 and corresponding x-y location is (7,-5).\n",
      "The individual's id is 7 and corresponding x-y location is (8,-8).\n",
      "The individual's id is 8 and corresponding x-y location is (-16,4).\n",
      "The individual's id is 9 and corresponding x-y location is (0,6).\n",
      "The individual's id is 10 and corresponding x-y location is (-2,-4).\n",
      "The individual's id is 11 and corresponding x-y location is (0,0).\n",
      "The individual's id is 0 and corresponding x-y location is (-5,-5).\n",
      "The individual's id is 1 and corresponding x-y location is (6,16).\n",
      "The individual's id is 2 and corresponding x-y location is (-2,-4).\n",
      "The individual's id is 3 and corresponding x-y location is (-1,-1).\n",
      "The individual's id is 4 and corresponding x-y location is (4,-2).\n",
      "The individual's id is 5 and corresponding x-y location is (-4,0).\n",
      "The individual's id is 6 and corresponding x-y location is (-10,-4).\n",
      "The individual's id is 7 and corresponding x-y location is (1,1).\n",
      "The individual's id is 8 and corresponding x-y location is (4,0).\n",
      "The individual's id is 9 and corresponding x-y location is (15,1).\n",
      "The individual's id is 10 and corresponding x-y location is (4,6).\n",
      "The individual's id is 11 and corresponding x-y location is (-3,-1).\n",
      "The individual's id is 12 and corresponding x-y location is (-3,3).\n",
      "The individual's id is 13 and corresponding x-y location is (-3,-7).\n",
      "The individual's id is 14 and corresponding x-y location is (-1,-9).\n",
      "The individual's id is 15 and corresponding x-y location is (-3,-7).\n",
      "The individual's id is 16 and corresponding x-y location is (6,-2).\n",
      "The individual's id is 17 and corresponding x-y location is (2,-8).\n",
      "The individual's id is 18 and corresponding x-y location is (-4,2).\n",
      "The individual's id is 19 and corresponding x-y location is (-6,-8).\n",
      "The individual's id is 20 and corresponding x-y location is (-2,4).\n",
      "The individual's id is 21 and corresponding x-y location is (-4,4).\n",
      "The individual's id is 22 and corresponding x-y location is (0,-2).\n",
      "The individual's id is 23 and corresponding x-y location is (-4,-4).\n",
      "The individual's id is 24 and corresponding x-y location is (-3,-5).\n",
      "The individual's id is 25 and corresponding x-y location is (2,2).\n",
      "The individual's id is 26 and corresponding x-y location is (-8,-2).\n",
      "The individual's id is 27 and corresponding x-y location is (-2,2).\n",
      "The individual's id is 28 and corresponding x-y location is (-2,-8).\n",
      "The individual's id is 29 and corresponding x-y location is (0,-10).\n",
      "The individual's id is 30 and corresponding x-y location is (-3,7).\n",
      "The individual's id is 31 and corresponding x-y location is (5,3).\n",
      "The individual's id is 32 and corresponding x-y location is (-6,4).\n",
      "The individual's id is 33 and corresponding x-y location is (2,10).\n",
      "The individual's id is 34 and corresponding x-y location is (-5,5).\n",
      "The individual's id is 35 and corresponding x-y location is (3,3).\n",
      "The individual's id is 36 and corresponding x-y location is (4,6).\n",
      "The individual's id is 37 and corresponding x-y location is (-2,2).\n",
      "The individual's id is 38 and corresponding x-y location is (8,14).\n",
      "The individual's id is 39 and corresponding x-y location is (5,-5).\n",
      "The individual's id is 40 and corresponding x-y location is (-1,7).\n",
      "The individual's id is 41 and corresponding x-y location is (6,-6).\n",
      "The individual's id is 42 and corresponding x-y location is (-4,8).\n",
      "The individual's id is 43 and corresponding x-y location is (2,4).\n",
      "The individual's id is 44 and corresponding x-y location is (-5,-3).\n",
      "The individual's id is 45 and corresponding x-y location is (4,-6).\n",
      "The individual's id is 46 and corresponding x-y location is (-3,1).\n",
      "The individual's id is 47 and corresponding x-y location is (-1,-3).\n",
      "The individual's id is 48 and corresponding x-y location is (-2,0).\n",
      "The individual's id is 49 and corresponding x-y location is (-3,3).\n"
     ]
    },
    {
     "data": {
      "image/png": "[encoded data removed]",
      "text/plain": [
       "<Figure size 432x288 with 1 Axes>"
      ]
     },
     "metadata": {},
     "output_type": "display_data"
    }
   ],
   "source": [
    "# Try creating a new population, simulating the movement of individuals, drawing a map,\n",
    "# and listing the location of individuals, but provide non-default values for the mapSize\n",
    "# and popSize of the population. Also, increase the number of time steps that individuals move.\n",
    "newPop2 = population(mapSize=50,popSize=50)\n",
    "steps2 = 50\n",
    "for num in range(steps2):\n",
    "    newPop.move()    \n",
    "newPop2.draw()\n",
    "newPop2.listLocations()"
   ]
  }
 ],
 "metadata": {
  "kernelspec": {
   "display_name": "Python 3",
   "language": "python",
   "name": "python3"
  },
  "language_info": {
   "codemirror_mode": {
    "name": "ipython",
    "version": 3
   },
   "file_extension": ".py",
   "mimetype": "text/x-python",
   "name": "python",
   "nbconvert_exporter": "python",
   "pygments_lexer": "ipython3",
   "version": "3.6.5"
  }
 },
 "nbformat": 4,
 "nbformat_minor": 4
}
