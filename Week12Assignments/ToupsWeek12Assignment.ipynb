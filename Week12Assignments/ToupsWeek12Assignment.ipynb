{
 "cells": [
  {
   "cell_type": "markdown",
   "metadata": {},
   "source": [
    "# Week 12 Assignment - Simulating Dispersal with Objects"
   ]
  },
  {
   "cell_type": "markdown",
   "metadata": {},
   "source": [
    "For this week's assignment, we're going to revisit the dispersal simulation that we worked on in Week 8. However, this time, we're going to use object-oriented programming. Specifically, we'll create two kinds of custom objects: `individual`s and `population`s.\n",
    "\n",
    "Each `individual` will have 3 attributes (an id number, a x-axis position, and a y-position) and 3 methods (a constructor, a method to move its position by 1 unit, and a method to print its coordinate location as x,y).\n",
    "\n",
    "Each `population` will have 2 attributes (a list of `individual`s in the `population` and a size for its map) and 4 methods (a constructor, a method to move each `individual` in the `population` 1 unit, a method to list the coordinate locations of all `individuals` in the `population`, and a method to display the locations of all `individual`s in the `population` as a scatter plot).\n",
    "\n",
    "More details are provided below."
   ]
  },
  {
   "cell_type": "code",
   "execution_count": 43,
   "metadata": {},
   "outputs": [],
   "source": [
    "#############################\n",
    "#   Author: Benjamin Toups\n",
    "#       Date: 4/20/2020\n",
    "############################\n",
    "\n",
    "\n",
    "\n",
    "# Import necessary modules\n",
    "import copy\n",
    "import random\n",
    "import matplotlib.pyplot as plt"
   ]
  },
  {
   "cell_type": "code",
   "execution_count": 44,
   "metadata": {},
   "outputs": [],
   "source": [
    "# Define the individual class\n",
    "\n",
    "class individual:\n",
    "    # Add a docstring\n",
    "    '''Defines individuals within a population'''\n",
    "        \n",
    "    def __init__(self,id,x=0,y=0): # Add default values for id, x, and y\n",
    "        # Add a docstring\n",
    "        '''Constructor method for the individual class'''\n",
    "        # The constructor should initialize the 3 attributes based on the values\n",
    "        # passed as arguments to the constructor.\n",
    "        self.id = id\n",
    "        self.x = x\n",
    "        self.y = y\n",
    "\n",
    "    \n",
    "    def move(self): # Add necessary arguments\n",
    "        # Add a docstring\n",
    "        '''Chooses a random direction and moves the individual accordingly'''\n",
    "        # Similar to the code from week 8, the code in this method should cause an\n",
    "        # individual to move one unit up, down, left, or right (chosen randomly).\n",
    "        # The x and y coordinates for this individual should be modified accordingly.\n",
    "        dirs = ['u','d','l','r']\n",
    "        choice = random.choice(dirs)\n",
    "        if choice == 'u':\n",
    "            self.y += 1\n",
    "        elif choice =='d':\n",
    "            self.y -= 1\n",
    "        elif choice == 'l':\n",
    "            self.x -= 1\n",
    "        elif choice == 'r':\n",
    "            self.x += 1\n",
    "        else:\n",
    "            print('Direction choice error!')\n",
    "        \n",
    "\n",
    "        \n",
    "    def printLocation(self): # Add necessary arguments\n",
    "        # Add a docstring\n",
    "        '''Prints a text description of the individual'''\n",
    "        # This method should print a text description of the \n",
    "        # individual's id and location (x,y).\n",
    "        print(\"Individual ID: {}, Current location: ({},{}).\".format(self.id,self.x,self.y))\n",
    "\n"
   ]
  },
  {
   "cell_type": "code",
   "execution_count": 45,
   "metadata": {
    "scrolled": true
   },
   "outputs": [],
   "source": [
    "# Define the population class\n",
    "\n",
    "class population:\n",
    "    # Add a docstring\n",
    "    '''Class for populations containing multiple individuals'''\n",
    "    def __init__(self,mapSize=4,popSize=3): # Add default values.\n",
    "        # Add a docstring\n",
    "        '''Constructor for the population class'''\n",
    "        # This constructor should create a list of individuals in the population. The \n",
    "        # number of individuals should be equal to popSize and each individual should have\n",
    "        # a unique id. The constructor should also record the mapSize as an attribute.\n",
    "        self.mapSize = mapSize\n",
    "        self.popSize = popSize\n",
    "        self.pop = []\n",
    "        for i in range(popSize):\n",
    "            self.pop.append(individual(id = i+1))\n",
    "            \n",
    "        \n",
    "    def move(self): # Add necessary arguments\n",
    "        # Add a docstring\n",
    "        '''Method to move each individual in the population once'''\n",
    "        # The code in this method should use a for loop and cause each individual to \n",
    "        # move one unit up, down, left, or right. This code should call the .move() method\n",
    "        # of each individual.\n",
    "        for i in self.pop:\n",
    "            i.move()\n",
    "\n",
    "        \n",
    "    def listLocations(self): # Add necessary arguments\n",
    "        # Add a docstring\n",
    "        '''prints the location of each individual in the population'''\n",
    "        # The code in this method should use a for loop to print a text description of\n",
    "        # each individual's location. This code should call the .printLocation() method\n",
    "        # of each individual.\n",
    "        for i in self.pop:\n",
    "            i.printLocation()\n",
    "\n",
    "        \n",
    "    def draw(self): # Add necessary arguments\n",
    "        # Add a docstring\n",
    "        '''Method to draw the location of each individual in the population'''\n",
    "        # The code in this method should use the .plot() method from pyplot to \n",
    "        # create a scatterplot showing the locations of all individuals in this\n",
    "        # population. The length of the x- and y-axes should each by mapSize.\n",
    "        for i in self.pop:\n",
    "            plt.scatter(x = i.x, y = i.y)\n",
    "        plt.grid(True)\n",
    "        plt.xlim(-self.mapSize,self.mapSize)    \n",
    "        plt.ylim(-self.mapSize,self.mapSize)\n",
    "        plt.show()\n"
   ]
  },
  {
   "cell_type": "markdown",
   "metadata": {},
   "source": [
    "Now that we've created the individual and population classes, let's use them to create populations of individuals and watch them disperse across a map."
   ]
  },
  {
   "cell_type": "code",
   "execution_count": 48,
   "metadata": {},
   "outputs": [
    {
     "data": {
      "image/png": "[encoded data removed]",
      "text/plain": [
       "<matplotlib.figure.Figure at 0x7f6898bf4630>"
      ]
     },
     "metadata": {},
     "output_type": "display_data"
    },
    {
     "name": "stdout",
     "output_type": "stream",
     "text": [
      "Individual ID: 1, Current location: (0,3).\n",
      "Individual ID: 2, Current location: (0,-1).\n",
      "Individual ID: 3, Current location: (2,1).\n"
     ]
    }
   ],
   "source": [
    "# Create a new population with default values\n",
    "pop1 = population()\n",
    "# Assign the number of time steps that individuals will move\n",
    "steps = 5\n",
    "# Use a for loop to simulate the movement of individuals for the specified number of steps.\n",
    "for i in range(steps):\n",
    "    pop1.move()\n",
    "# Use the .draw() method of the population to draw the map.\n",
    "pop1.draw()\n",
    "# Use the .listLocations() method to list the locations of all individuals in the population.\n",
    "pop1.listLocations()"
   ]
  },
  {
   "cell_type": "code",
   "execution_count": 49,
   "metadata": {},
   "outputs": [
    {
     "data": {
      "image/png": "[encoded data removed]",
      "text/plain": [
       "<matplotlib.figure.Figure at 0x7f6898b9df98>"
      ]
     },
     "metadata": {},
     "output_type": "display_data"
    },
    {
     "name": "stdout",
     "output_type": "stream",
     "text": [
      "Individual ID: 1, Current location: (-4,-1).\n",
      "Individual ID: 2, Current location: (0,3).\n",
      "Individual ID: 3, Current location: (2,-1).\n",
      "Individual ID: 4, Current location: (2,-7).\n",
      "Individual ID: 5, Current location: (-1,-2).\n"
     ]
    }
   ],
   "source": [
    "# Try creating a new population, simulating the movement of individuals, drawing a map,\n",
    "# and listing the location of individuals, but provide non-default values for the mapSize\n",
    "# and popSize of the population. Also, increase the number of time steps that individuals move.\n",
    "pop2 = population(mapSize = 10, popSize = 5)\n",
    "steps2 = 15\n",
    "for i in range(steps2):\n",
    "    pop2.move()\n",
    "pop2.draw()\n",
    "pop2.listLocations()"
   ]
  },
  {
   "cell_type": "code",
   "execution_count": null,
   "metadata": {},
   "outputs": [],
   "source": []
  }
 ],
 "metadata": {
  "kernelspec": {
   "display_name": "Python 3",
   "language": "python",
   "name": "python3"
  },
  "language_info": {
   "codemirror_mode": {
    "name": "ipython",
    "version": 3
   },
   "file_extension": ".py",
   "mimetype": "text/x-python",
   "name": "python",
   "nbconvert_exporter": "python",
   "pygments_lexer": "ipython3",
   "version": "3.6.4"
  }
 },
 "nbformat": 4,
 "nbformat_minor": 4
}
