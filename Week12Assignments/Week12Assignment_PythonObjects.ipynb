{
 "cells": [
  {
   "cell_type": "markdown",
   "metadata": {},
   "source": [
    "# Week 12 Assignment - Simulating Dispersal with Objects"
   ]
  },
  {
   "cell_type": "markdown",
   "metadata": {},
   "source": [
    "For this week's assignment, we're going to revisit the dispersal simulation that we worked on in Week 8. However, this time, we're going to use object-oriented programming. Specifically, we'll create two kinds of custom objects: `individual`s and `population`s.\n",
    "\n",
    "Each `individual` will have 3 attributes (an id number, a x-axis position, and a y-position) and 3 methods (a constructor, a method to move its position by 1 unit, and a method to print its coordinate location as x,y).\n",
    "\n",
    "Each `population` will have 2 attributes (a list of `individual`s in the `population` and a size for its map) and 4 methods (a constructor, a method to move each `individual` in the `population` 1 unit, a method to list the coordinate locations of all `individuals` in the `population`, and a method to display the locations of all `individual`s in the `population` as a scatter plot).\n",
    "\n",
    "More details are provided below."
   ]
  },
  {
   "cell_type": "code",
   "execution_count": 59,
   "metadata": {},
   "outputs": [],
   "source": [
    "# Import necessary modules\n",
    "import random\n",
    "import matplotlib.pyplot as plt"
   ]
  },
  {
   "cell_type": "code",
   "execution_count": 60,
   "metadata": {
    "scrolled": true
   },
   "outputs": [],
   "source": [
    "# Define the individual class\n",
    "\n",
    "class individual:\n",
    "    \"\"\"This class will store objects called individuals\"\"\" \n",
    "\n",
    "        \n",
    "    def __init__(self,id=\"\",x=0,y=0): # Add default values for id, x, and y\n",
    "        \"\"\"This method will define individuals: id, original position in 'x' axis, original position in 'y' axis\"\"\"\n",
    "        \n",
    "        self.id = id\n",
    "        self.x = x\n",
    "        self.y = y\n",
    "\n",
    "    def move(self): # Add necessary arguments\n",
    "        \"\"\"This method will generate a random movement up, down, at left or right\"\"\"\n",
    "        \n",
    "        # Similar to the code from week 8, the code in this method should cause an\n",
    "        # individual to move one unit up, down, left, or right (chosen randomly).\n",
    "        # The x and y coordinates for this individual should be modified accordingly.\n",
    "        dirs = [\"u\",\"d\",\"l\",\"r\"]\n",
    "        mv = random.choice(dirs) # Randomly draws a direction - u, d, l, or r\n",
    "        if mv == \"u\": # Test what direction was drawn and update position accordingly\n",
    "            self.y = self.y+1   \n",
    "        elif mv == \"d\":\n",
    "            self.y = self.y-1\n",
    "        elif mv == \"l\":\n",
    "            self.x = self.x-1\n",
    "        elif mv == \"r\":\n",
    "            self.x = self.x+1\n",
    "        \n",
    "    def printLocation(self): # Add necessary arguments\n",
    "        \"\"\"This method will print the current locataion of the individual\"\"\"\n",
    "        \n",
    "        # This method should print a text description of the \n",
    "        # individual's id and location (x,y).\n",
    "        print(\"The current location of individual '%s' is x = %d and y = %d.\" % (self.id, self.x, self.y))"
   ]
  },
  {
   "cell_type": "code",
   "execution_count": 61,
   "metadata": {
    "scrolled": true
   },
   "outputs": [
    {
     "name": "stdout",
     "output_type": "stream",
     "text": [
      "The current location of individual '' is x = 1 and y = 0.\n"
     ]
    }
   ],
   "source": [
    "ind_1 = individual()\n",
    "ind_1.move()\n",
    "ind_1.printLocation()"
   ]
  },
  {
   "cell_type": "code",
   "execution_count": 62,
   "metadata": {},
   "outputs": [],
   "source": [
    "# Define the population class\n",
    "\n",
    "class population:\n",
    "    \"\"\"This class will store objects called populations, which will include individuls\"\"\" \n",
    "    \n",
    "    \n",
    "    def __init__(self,popSize=5,mapSize=10): # Add default values.\n",
    "        \"\"\"This method will define each population: populations size, graph size (see draw method)\"\"\" \n",
    "        \n",
    "        self.popSize = popSize\n",
    "        self.indList = []\n",
    "        for _ in range(popSize):\n",
    "            self.indList.append(individual('ind_%d'%_))\n",
    "        self.mapSize = mapSize\n",
    "        # This constructor should create a list of individuals in the population. The \n",
    "        # number of individuals should be equal to popSize and each individual should have\n",
    "        # a unique id. The constructor should also record the mapSize as an attribute.\n",
    "\n",
    "        \n",
    "    def move(self): # Add necessary arguments\n",
    "        \"\"\"This method will move one randlomly place each individual in the simulated population\"\"\" \n",
    "        for _ in self.indList:\n",
    "            _.move()\n",
    "        # The code in this method should use a for loop and cause each individual to \n",
    "        # move one unit up, down, left, or right. This code should call the .move() method\n",
    "        # of each individual.        \n",
    "\n",
    "        \n",
    "    def listLocations(self): # Add necessary arguments\n",
    "        \"\"\"This method will print the current position of each individual in the simulated population\"\"\" \n",
    "\n",
    "        for _ in self.indList:\n",
    "            _.printLocation()\n",
    "        # The code in this method should use a for loop to print a text description of\n",
    "        # each individual's location. This code should call the .printLocation() method\n",
    "        # of each individual.\n",
    "\n",
    "        \n",
    "    def draw(self): # Add necessary arguments\n",
    "        \"\"\"This method will draw in a scatter plot the current position of each individual in the simulated population\"\"\" \n",
    "        \n",
    "        for _ in self.indList:\n",
    "            plt.axis([-self.mapSize,self.mapSize,-self.mapSize,self.mapSize])\n",
    "            plt.plot(_.x, _.y, 'o')\n",
    "        plt.show()\n",
    "        \n",
    "        # The code in this method should use the .plot() method from pyplot to \n",
    "        # create a scatterplot showing the locations of all individuals in this\n",
    "        # population. The length of the x- and y-axes should each by mapSize."
   ]
  },
  {
   "cell_type": "code",
   "execution_count": 63,
   "metadata": {
    "scrolled": true
   },
   "outputs": [
    {
     "name": "stdout",
     "output_type": "stream",
     "text": [
      "The current location of individual 'ind_0' is x = -1 and y = 0.\n",
      "The current location of individual 'ind_1' is x = 0 and y = 1.\n",
      "The current location of individual 'ind_2' is x = 0 and y = -1.\n",
      "The current location of individual 'ind_3' is x = -1 and y = 0.\n",
      "The current location of individual 'ind_4' is x = -1 and y = 0.\n"
     ]
    },
    {
     "data": {
      "image/png": "[encoded data removed]",
      "text/plain": [
       "<matplotlib.figure.Figure at 0x7f4fbc4ff7b8>"
      ]
     },
     "metadata": {},
     "output_type": "display_data"
    }
   ],
   "source": [
    "pop_1 = population()\n",
    "pop_1.move()\n",
    "pop_1.listLocations()\n",
    "pop_1.draw()\n"
   ]
  },
  {
   "cell_type": "markdown",
   "metadata": {},
   "source": [
    "Now that we've created the individual and population classes, let's use them to create populations of individuals and watch them disperse across a map."
   ]
  },
  {
   "cell_type": "code",
   "execution_count": 64,
   "metadata": {},
   "outputs": [
    {
     "data": {
      "image/png": "[encoded data removed]",
      "text/plain": [
       "<matplotlib.figure.Figure at 0x7f4fbc206748>"
      ]
     },
     "metadata": {},
     "output_type": "display_data"
    },
    {
     "name": "stdout",
     "output_type": "stream",
     "text": [
      "The current location of individual 'ind_0' is x = 2 and y = 2.\n",
      "The current location of individual 'ind_1' is x = -2 and y = -6.\n",
      "The current location of individual 'ind_2' is x = 4 and y = -4.\n",
      "The current location of individual 'ind_3' is x = -2 and y = -2.\n",
      "The current location of individual 'ind_4' is x = 2 and y = -2.\n"
     ]
    }
   ],
   "source": [
    "# Create a new population with default values\n",
    "pop_1 = population()\n",
    "\n",
    "# Assign the number of time steps that individuals will move\n",
    "steps = 10\n",
    "\n",
    "# Use a for loop to simulate the movement of individuals for the specified number of steps.\n",
    "for _ in range(steps):\n",
    "    pop_1.move()\n",
    "    \n",
    "# Use the .draw() method of the population to draw the map.\n",
    "pop_1.draw()\n",
    "\n",
    "# Use the .listLocations() method to list the locations of all individuals in the population.\n",
    "pop_1.listLocations()"
   ]
  },
  {
   "cell_type": "code",
   "execution_count": 65,
   "metadata": {
    "scrolled": false
   },
   "outputs": [
    {
     "data": {
      "image/png": "[encoded data removed]",
      "text/plain": [
       "<matplotlib.figure.Figure at 0x7f4fbc217ba8>"
      ]
     },
     "metadata": {},
     "output_type": "display_data"
    },
    {
     "name": "stdout",
     "output_type": "stream",
     "text": [
      "The current location of individual 'ind_0' is x = 2 and y = 0.\n",
      "The current location of individual 'ind_1' is x = -3 and y = 3.\n",
      "The current location of individual 'ind_2' is x = 1 and y = 3.\n",
      "The current location of individual 'ind_3' is x = 2 and y = -2.\n",
      "The current location of individual 'ind_4' is x = -1 and y = -5.\n",
      "The current location of individual 'ind_5' is x = -2 and y = 2.\n",
      "The current location of individual 'ind_6' is x = 3 and y = -1.\n",
      "The current location of individual 'ind_7' is x = -2 and y = -2.\n",
      "The current location of individual 'ind_8' is x = 2 and y = -2.\n",
      "The current location of individual 'ind_9' is x = -1 and y = 1.\n"
     ]
    }
   ],
   "source": [
    "# Try creating a new population, simulating the movement of individuals, drawing a map,\n",
    "# and listing the location of individuals, but provide non-default values for the mapSize\n",
    "# and popSize of the population. Also, increase the number of time steps that individuals move.\n",
    "\n",
    "\n",
    "# Create a new population \n",
    "pop_2 = population(10,20)\n",
    "\n",
    "# Assign the number of time steps that individuals will move\n",
    "steps = 20\n",
    "\n",
    "# Use a for loop to simulate the movement of individuals for the specified number of steps.\n",
    "for _ in range(steps):\n",
    "    pop_2.move()\n",
    "    \n",
    "# Use the .draw() method of the population to draw the map.\n",
    "pop_2.draw()\n",
    "\n",
    "# Use the .listLocations() method to list the locations of all individuals in the population.\n",
    "pop_2.listLocations()"
   ]
  },
  {
   "cell_type": "code",
   "execution_count": null,
   "metadata": {},
   "outputs": [],
   "source": []
  }
 ],
 "metadata": {
  "kernelspec": {
   "display_name": "Python 3",
   "language": "python",
   "name": "python3"
  },
  "language_info": {
   "codemirror_mode": {
    "name": "ipython",
    "version": 3
   },
   "file_extension": ".py",
   "mimetype": "text/x-python",
   "name": "python",
   "nbconvert_exporter": "python",
   "pygments_lexer": "ipython3",
   "version": "3.6.4"
  }
 },
 "nbformat": 4,
 "nbformat_minor": 4
}
