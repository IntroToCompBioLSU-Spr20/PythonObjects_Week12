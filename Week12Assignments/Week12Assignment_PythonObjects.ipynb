{
 "cells": [
  {
   "cell_type": "markdown",
   "metadata": {},
   "source": [
    "# Week 12 Assignment - Simulating Dispersal with Objects"
   ]
  },
  {
   "cell_type": "markdown",
   "metadata": {},
   "source": [
    "For this week's assignment, we're going to revisit the dispersal simulation that we worked on in Week 8. However, this time, we're going to use object-oriented programming. Specifically, we'll create two kinds of custom objects: `individual`s and `population`s.\n",
    "\n",
    "Each `individual` will have 3 attributes (an id number, a x-axis position, and a y-position) and 3 methods (a constructor, a method to move its position by 1 unit, and a method to print its coordinate location as x,y).\n",
    "\n",
    "Each `population` will have 2 attributes (a list of `individual`s in the `population` and a size for its map) and 4 methods (a constructor, a method to move each `individual` in the `population` 1 unit, a method to list the coordinate locations of all `individuals` in the `population`, and a method to display the locations of all `individual`s in the `population` as a scatter plot).\n",
    "\n",
    "More details are provided below."
   ]
  },
  {
   "cell_type": "code",
   "execution_count": 47,
   "metadata": {},
   "outputs": [],
   "source": [
    "# Import necessary modules\n",
    "import random\n",
    "import matplotlib.pyplot as plt"
   ]
  },
  {
   "cell_type": "code",
   "execution_count": 48,
   "metadata": {},
   "outputs": [],
   "source": [
    "# Define the individual class\n",
    "\n",
    "class individual:\n",
    "    # Add a docstring\n",
    "    #   \n",
    "    def __init__(self,id,x=0,y=0): # Add default values for id, x, and y\n",
    "        # Add a docstring\n",
    "        \"\"\"constructor required for the class individual\"\"\"\n",
    "        # The constructor should initialize the 3 attributes based on the values\n",
    "        # passed as arguments to the constructor.\n",
    "        self.id=id\n",
    "        self.x=x\n",
    "        self.y=y\n",
    "\n",
    "    \n",
    "    def move(self): # Add necessary arguments\n",
    "        \"\"\"method to randomly draw a direction - u, d, l, or r\"\"\"\n",
    "        dirs = [\"u\",\"d\",\"l\",\"r\"]\n",
    "        move = random.choice(dirs)\n",
    "        # testing what direction was drawn and update position accordingly\n",
    "        if move == \"u\":\n",
    "            self.y= self.y+1   \n",
    "        elif move == \"d\":\n",
    "            self.y= self.y-1\n",
    "        elif move == \"r\":\n",
    "            self.x= self.x+1\n",
    "        elif move == \"l\":\n",
    "            self.x= self.x-1\n",
    "        else:\n",
    "            print(\"Something's wrong! Direction is not u, d, l, or r.\")\n",
    "        # Similar to the code from week 8, the code in this method should cause an\n",
    "        # individual to move one unit up, down, left, or right (chosen randomly).\n",
    "        # The x and y coordinates for this individual should be modified accordingly.\n",
    "\n",
    "        \n",
    "    def printLocation(self): # Add necessary arguments\n",
    "        # Add a docstring\n",
    "        \"\"\"method to print out the location information for each individual\"\"\" \n",
    "        print(\"Individual, id_%s, is at position (%f, %f).\" % (self.id, self.x, self.y))\n",
    "        # This method should print a text description of the \n",
    "        # individual's id and location (x,y)."
   ]
  },
  {
   "cell_type": "code",
   "execution_count": 54,
   "metadata": {},
   "outputs": [],
   "source": [
    "# Define the population class\n",
    "\n",
    "class population:\n",
    "    # Add a docstring\n",
    "    \"\"\"class to store information of each individual within the population\"\"\"\n",
    "    def __init__(self,mapSize=5,popSize=5): # Add default values.\n",
    "        # Add a docstring\n",
    "        \"\"\"constructor required for the class population\"\"\"\n",
    "        self.mapSize=mapSize\n",
    "        self.popSize=popSize\n",
    "        # creating a list to store all individuals\n",
    "        self.individuals=[]\n",
    "        #adding each individual to the list that will contain all individuals based on the number within popSize\n",
    "        for x in range(popSize):\n",
    "            self.individuals.append(individual(id=x+1))  \n",
    "     \n",
    "        # This constructor should create a list of individuals in the population. The \n",
    "        # number of individuals should be equal to popSize and each individual should have\n",
    "        # a unique id. The constructor should also record the mapSize as an attribute.\n",
    "             \n",
    "    def move(self): # Add necessary arguments\n",
    "        # Add a docstring\n",
    "        \"\"\"method to move each individual one unit within the population\"\"\"\n",
    "        for individual in self.individuals:\n",
    "            individual.move() \n",
    "        \n",
    "        # The code in this method should use a for loop and cause each individual to \n",
    "        # move one unit up, down, left, or right. This code should call the .move() method\n",
    "        # of each individual.\n",
    "\n",
    "        \n",
    "    def listLocations(self): # Add necessary arguments\n",
    "        # Add a docstring\n",
    "        \"\"\"method to print out the locatin of each individual\"\"\"\n",
    "        for individual in self.individuals:\n",
    "            individual.printLocation()\n",
    "        # The code in this method should use a for loop to print a text description of\n",
    "        # each individual's location. This code should call the .printLocation() method\n",
    "        # of each individual.\n",
    "\n",
    "        \n",
    "    def draw(self): # Add necessary arguments\n",
    "        # Add a docstring\n",
    "        \"\"\"method to plot the location of each individual within the population\"\"\"\n",
    "        plt.figure()\n",
    "        for individual in self.individuals:\n",
    "            plt.scatter(x=individual.x, y=individual.y, color= \"red\", marker= \"o\", s=30)\n",
    "        plt.show()\n",
    "        # The code in this method should use the .plot() method from pyplot to \n",
    "        # create a scatterplot showing the locations of all individuals in this\n",
    "        # population. The length of the x- and y-axes should each by mapSize."
   ]
  },
  {
   "cell_type": "markdown",
   "metadata": {},
   "source": [
    "Now that we've created the individual and population classes, let's use them to create populations of individuals and watch them disperse across a map."
   ]
  },
  {
   "cell_type": "code",
   "execution_count": 55,
   "metadata": {},
   "outputs": [
    {
     "data": {
      "image/png": "[encoded data removed]",
      "text/plain": [
       "<matplotlib.figure.Figure at 0x7f9448f15da0>"
      ]
     },
     "metadata": {},
     "output_type": "display_data"
    },
    {
     "name": "stdout",
     "output_type": "stream",
     "text": [
      "Individual, id_1, is at position (2.000000, 0.000000).\n",
      "Individual, id_2, is at position (1.000000, -1.000000).\n",
      "Individual, id_3, is at position (0.000000, 0.000000).\n",
      "Individual, id_4, is at position (0.000000, 0.000000).\n",
      "Individual, id_5, is at position (-3.000000, 5.000000).\n"
     ]
    }
   ],
   "source": [
    "# Create a new population with default values\n",
    "pop_1=population()\n",
    "\n",
    "# Assign the number of time steps that individuals will move\n",
    "steps=10\n",
    "\n",
    "# Use a for loop to simulate the movement of individuals for the specified number of steps.\n",
    "for x in range(steps):\n",
    "    pop_1.move()\n",
    "\n",
    "# Use the .draw() method of the population to draw the map.\n",
    "pop_1.draw()\n",
    "\n",
    "# Use the .listLocations() method to list the locations of all individuals in the population.\n",
    "pop_1.listLocations()"
   ]
  },
  {
   "cell_type": "code",
   "execution_count": 56,
   "metadata": {},
   "outputs": [
    {
     "data": {
      "image/png": "[encoded data removed]",
      "text/plain": [
       "<matplotlib.figure.Figure at 0x7f9448e547f0>"
      ]
     },
     "metadata": {},
     "output_type": "display_data"
    },
    {
     "name": "stdout",
     "output_type": "stream",
     "text": [
      "Individual, id_1, is at position (9.000000, -3.000000).\n",
      "Individual, id_2, is at position (-3.000000, -3.000000).\n",
      "Individual, id_3, is at position (0.000000, -2.000000).\n",
      "Individual, id_4, is at position (-3.000000, 5.000000).\n",
      "Individual, id_5, is at position (3.000000, -1.000000).\n",
      "Individual, id_6, is at position (5.000000, 1.000000).\n",
      "Individual, id_7, is at position (-1.000000, 1.000000).\n",
      "Individual, id_8, is at position (0.000000, -6.000000).\n",
      "Individual, id_9, is at position (0.000000, -4.000000).\n",
      "Individual, id_10, is at position (-4.000000, 0.000000).\n"
     ]
    }
   ],
   "source": [
    "# Try creating a new population, simulating the movement of individuals, drawing a map,\n",
    "# and listing the location of individuals, but provide non-default values for the mapSize\n",
    "# and popSize of the population. Also, increase the number of time steps that individuals move.\n",
    "\n",
    "pop_2=population(mapSize = 10, popSize = 10)\n",
    "steps=20\n",
    "for x in range(steps):\n",
    "    pop_2.move()\n",
    "pop_2.draw()\n",
    "pop_2.listLocations()"
   ]
  },
  {
   "cell_type": "code",
   "execution_count": null,
   "metadata": {},
   "outputs": [],
   "source": []
  }
 ],
 "metadata": {
  "kernelspec": {
   "display_name": "Python 3",
   "language": "python",
   "name": "python3"
  },
  "language_info": {
   "codemirror_mode": {
    "name": "ipython",
    "version": 3
   },
   "file_extension": ".py",
   "mimetype": "text/x-python",
   "name": "python",
   "nbconvert_exporter": "python",
   "pygments_lexer": "ipython3",
   "version": "3.6.4"
  }
 },
 "nbformat": 4,
 "nbformat_minor": 4
}
