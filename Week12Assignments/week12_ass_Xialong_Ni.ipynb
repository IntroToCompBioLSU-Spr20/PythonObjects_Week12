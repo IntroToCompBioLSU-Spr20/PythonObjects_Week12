{
 "cells": [
  {
   "cell_type": "markdown",
   "metadata": {},
   "source": [
    "# Week 12 Assignment - Simulating Dispersal with Objects\n",
    "For this week's assignment, we're going to revisit the dispersal simulation that we worked on in Week 8. However, this time, we're going to use object-oriented programming. Specifically, we'll create two kinds of custom objects: individuals and populations.\n",
    "\n",
    "Each individual will have 3 attributes (an id number, a x-axis position, and a y-position) and 3 methods (a constructor, a method to move its position by 1 unit, and a method to print its coordinate location as x,y).\n",
    "\n",
    "Each population will have 2 attributes (a list of individuals in the population and a size for its map) and 4 methods (a constructor, a method to move each individual in the population 1 unit, a method to list the coordinate locations of all individuals in the population, and a method to display the locations of all individuals in the population as a scatter plot).\n",
    "\n",
    "More details are provided below.\n",
    "\n",
    "\n",
    "Now that we've created the individual and population classes, let's use them to create populations of individuals and watch them disperse across a map."
   ]
  },
  {
   "cell_type": "code",
   "execution_count": 1,
   "metadata": {},
   "outputs": [],
   "source": [
    "# Import necessary modules\n",
    "import random\n",
    "import matplotlib.pyplot as plt"
   ]
  },
  {
   "cell_type": "code",
   "execution_count": 2,
   "metadata": {},
   "outputs": [],
   "source": [
    "# Define the individual class\n",
    "\n",
    "class individual:\n",
    "    \"\"\"class to hold each individual\"\"\"\n",
    "    id = 1\n",
    "    x = 0\n",
    "    y = 0\n",
    "    def __init__(self,id=1,x=0,y=0): # Add default values for id, x, and y\n",
    "        # Add a docstring\n",
    "        self.id = id\n",
    "        self.x = x\n",
    "        self.y = y\n",
    "        # The constructor should initialize the 3 attributes based on the values\n",
    "        # passed as arguments to the constructor.\n",
    "\n",
    "    \n",
    "    def move(self): # Add necessary arguments\n",
    "        \n",
    "        dirs = [\"u\",\"d\",\"l\",\"r\"] # Create a list for 4 direcctions.\n",
    "        randomC = random.choice(dirs) # Randomly draws a direction - u, d, l, or r\n",
    "        if randomC == \"u\": # Test what direction was drawn and update position accordingly\n",
    "            self.y += 1\n",
    "        elif randomC ==\"d\":\n",
    "            self.y -= 1\n",
    "        elif randomC ==\"l\":\n",
    "            self.x -= 1\n",
    "        elif randomC ==\"r\":\n",
    "            self.x += 1\n",
    "        else:\n",
    "            print(\"Something's wrong! Direction is not u, d, l, or r.\")\n",
    "  \n",
    "        # Similar to the code from week 8, the code in this method should cause an\n",
    "        # individual to move one unit up, down, left, or right (chosen randomly).\n",
    "        # The x and y coordinates for this individual should be modified accordingly.\n",
    "\n",
    "        \n",
    "    def printLocation(self): # Add necessary arguments\n",
    "        \"\"\"This custom function prints a text description of the location of individual\"\"\"\n",
    "\n",
    "        print(\"The loction of individual ID %d: (%d, %d)\" % (self.id, self.x, self.y)) \n",
    "        # \n",
    "        # This method should print a text description of the \n",
    "        # individual's id and location (x,y)."
   ]
  },
  {
   "cell_type": "code",
   "execution_count": 3,
   "metadata": {},
   "outputs": [],
   "source": [
    "# Define the population class\n",
    "\n",
    "class population:\n",
    "    \"\"\"Class to hold information about population of individials\"\"\"\n",
    "    \n",
    "    def __init__(self,mapSize=5,popSize=10): # Add default values.\n",
    "        \"\"\"Constructor for population class\"\"\"\n",
    "        self.mapSize = mapSize\n",
    "        self.popSize = popSize\n",
    "        self.pop = [] #\"Create an empty list for indivudials\"\n",
    "        for ind in range(popSize):\n",
    "            self.pop.append(individual(id = ind+1))\n",
    "            \n",
    "        # This constructor should create a list of individuals in the population. The \n",
    "        # number of individuals should be equal to popSize and each individual should have\n",
    "        # a unique id. The constructor should also record the mapSize as an attribute.\n",
    " \n",
    "    def move(self): # Add necessary arguments\n",
    "        \"\"\"Move each individual in the population class\"\"\"\n",
    "        for ind in self.pop:\n",
    "            ind.move() \n",
    "            \n",
    "        # The code in this method should use a for loop and cause each individual to \n",
    "        # move one unit up, down, left, or right. This code should call the .move() method\n",
    "        # of each individual.\n",
    " \n",
    "    def listLocations(self): # Add necessary arguments\n",
    "        \"\"\"print the location of each individual\"\"\"\n",
    "        for ind in self.pop:\n",
    "            ind.printLocation()\n",
    "        # The code in this method should use a for loop to print a text description of\n",
    "        # each individual's location. This code should call the .printLocation() method\n",
    "        # of each individual.\n",
    "        \n",
    "    def draw(self): # Add necessary arguments\n",
    "        \"\"\"Draw a scatterplot to show the locations of all individuals\"\"\"\n",
    "        \n",
    "        plt.figure(figsize=(self.mapSize,self.mapSize))\n",
    "        \n",
    "        for ind in self.pop:\n",
    "             plt.plot(ind.x,ind.y,\"o\") # create circle markers\n",
    "             \n",
    "        plt.grid(True) # add gridding\n",
    "        plt.show()\n",
    "        \n",
    "        # The code in this method should use the .plot() method from pyplot to \n",
    "        # create a scatterplot showing the locations of all individuals in this\n",
    "        # population. The length of the x- and y-axes should each by mapSize."
   ]
  },
  {
   "cell_type": "code",
   "execution_count": 4,
   "metadata": {},
   "outputs": [
    {
     "data": {
      "image/png": "[encoded data removed]",
      "text/plain": [
       "<matplotlib.figure.Figure at 0x7f5a4818d320>"
      ]
     },
     "metadata": {},
     "output_type": "display_data"
    },
    {
     "name": "stdout",
     "output_type": "stream",
     "text": [
      "The loction of individual ID 1: (1, 3)\n",
      "The loction of individual ID 2: (1, 1)\n",
      "The loction of individual ID 3: (0, -2)\n",
      "The loction of individual ID 4: (-1, -5)\n",
      "The loction of individual ID 5: (2, 0)\n",
      "The loction of individual ID 6: (0, 0)\n",
      "The loction of individual ID 7: (0, -4)\n",
      "The loction of individual ID 8: (-1, 1)\n",
      "The loction of individual ID 9: (2, 0)\n",
      "The loction of individual ID 10: (-1, -1)\n"
     ]
    }
   ],
   "source": [
    "# Create a new population with default values\n",
    "newPop = population()\n",
    "# Assign the number of time steps that individuals will move\n",
    "steps = 6\n",
    "# Use a for loop to simulate the movement of individuals for the specified number of steps.\n",
    "for i in range(steps):\n",
    "    newPop.move()\n",
    "# Use the .draw() method of the population to draw the map.\n",
    "newPop.draw()\n",
    "# Use the .listLocations() method to list the locations of all individuals in the population.\n",
    "newPop.listLocations()"
   ]
  },
  {
   "cell_type": "code",
   "execution_count": 5,
   "metadata": {},
   "outputs": [
    {
     "data": {
      "image/png": "[encoded data removed]",
      "text/plain": [
       "<matplotlib.figure.Figure at 0x7f5a481e66a0>"
      ]
     },
     "metadata": {},
     "output_type": "display_data"
    },
    {
     "name": "stdout",
     "output_type": "stream",
     "text": [
      "The loction of individual ID 1: (-5, -1)\n",
      "The loction of individual ID 2: (3, 1)\n",
      "The loction of individual ID 3: (2, 0)\n",
      "The loction of individual ID 4: (-4, 6)\n",
      "The loction of individual ID 5: (3, -1)\n",
      "The loction of individual ID 6: (0, 0)\n",
      "The loction of individual ID 7: (-4, -2)\n",
      "The loction of individual ID 8: (1, 3)\n",
      "The loction of individual ID 9: (-2, -4)\n",
      "The loction of individual ID 10: (3, 1)\n",
      "The loction of individual ID 11: (4, -2)\n",
      "The loction of individual ID 12: (-1, 1)\n",
      "The loction of individual ID 13: (-1, 3)\n",
      "The loction of individual ID 14: (0, -4)\n",
      "The loction of individual ID 15: (1, -5)\n",
      "The loction of individual ID 16: (3, -1)\n",
      "The loction of individual ID 17: (1, 1)\n",
      "The loction of individual ID 18: (-4, 0)\n",
      "The loction of individual ID 19: (-2, -2)\n",
      "The loction of individual ID 20: (4, -4)\n"
     ]
    }
   ],
   "source": [
    "# Try creating a new population, simulating the movement of individuals, drawing a map,\n",
    "# and listing the location of individuals, but provide non-default values for the mapSize\n",
    "# and popSize of the population. Also, increase the number of time steps that individuals move.\n",
    "newPop2 = population(mapSize = 10, popSize = 20)\n",
    "steps2 = 20\n",
    "for i in range(steps2):\n",
    "    newPop2.move()\n",
    "newPop2.draw()\n",
    "newPop2.listLocations()"
   ]
  }
 ],
 "metadata": {
  "kernelspec": {
   "display_name": "Python 3",
   "language": "python",
   "name": "python3"
  },
  "language_info": {
   "codemirror_mode": {
    "name": "ipython",
    "version": 3
   },
   "file_extension": ".py",
   "mimetype": "text/x-python",
   "name": "python",
   "nbconvert_exporter": "python",
   "pygments_lexer": "ipython3",
   "version": "3.6.4"
  }
 },
 "nbformat": 4,
 "nbformat_minor": 2
}
