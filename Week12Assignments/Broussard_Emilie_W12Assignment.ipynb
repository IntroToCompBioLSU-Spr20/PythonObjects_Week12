{
 "cells": [
  {
   "cell_type": "markdown",
   "metadata": {},
   "source": [
    "# Week 12 Assignment - Simulating Dispersal with Objects"
   ]
  },
  {
   "cell_type": "markdown",
   "metadata": {},
   "source": [
    "For this week's assignment, we're going to revisit the dispersal simulation that we worked on in Week 8. However, this time, we're going to use object-oriented programming. Specifically, we'll create two kinds of custom objects: `individual`s and `population`s.\n",
    "\n",
    "Each `individual` will have 3 attributes (an id number, a x-axis position, and a y-position) and 3 methods (a constructor, a method to move its position by 1 unit, and a method to print its coordinate location as x,y).\n",
    "\n",
    "Each `population` will have 2 attributes (a list of `individual`s in the `population` and a size for its map) and 4 methods (a constructor, a method to move each `individual` in the `population` 1 unit, a method to list the coordinate locations of all `individuals` in the `population`, and a method to display the locations of all `individual`s in the `population` as a scatter plot).\n",
    "\n",
    "More details are provided below."
   ]
  },
  {
   "cell_type": "code",
   "execution_count": 1,
   "metadata": {},
   "outputs": [],
   "source": [
    "# Import necessary modules\n",
    "import random\n",
    "import matplotlib.pyplot as plt\n",
    "import numpy as np"
   ]
  },
  {
   "cell_type": "code",
   "execution_count": 2,
   "metadata": {},
   "outputs": [],
   "source": [
    "# Define the individual class\n",
    "\n",
    "class individual:\n",
    "    \"\"\"Class to hold information about individuals.\"\"\"\n",
    "    # Add a docstring\n",
    "\n",
    "        \n",
    "    def __init__(self,id=0,x=0.0,y=0.0): # Add default values for id, x, and y\n",
    "        # Add a docstring\n",
    "        \"\"\"Used to add default values for id, x, and y\"\"\"\n",
    "        \n",
    "        # The constructor should initialize the 3 attributes based on the values\n",
    "        # passed as arguments to the constructor.\n",
    "        self.id = id\n",
    "        self.x = x\n",
    "        self.y = y\n",
    "\n",
    "    \n",
    "    def move(self): # Add necessary arguments\n",
    "        # Add a docstring\n",
    "        \"\"\"Moves individual one unit up, down, left, or right randomly\"\"\"\n",
    "        \n",
    "        # Similar to the code from week 8, the code in this method should cause an\n",
    "        # individual to move one unit up, down, left, or right (chosen randomly).\n",
    "        # The x and y coordinates for this individual should be modified accordingly.\n",
    "        \n",
    "        #Sets directions\n",
    "        dirs = [\"u\",\"d\",\"l\",\"r\"]\n",
    "        #Randomly draw a direction\n",
    "        move = random.choice(dirs)\n",
    "        \n",
    "        #Set up elif to change the values of x and y based on direction drawn\n",
    "        if move == \"u\":\n",
    "            self.y = self.y + 1\n",
    "        elif move == \"d\":\n",
    "            self.y = self.y - 1\n",
    "        elif move == \"l\":\n",
    "            self.x = self.x - 1\n",
    "        elif move == \"r\":\n",
    "            self.x = self.x + 1\n",
    "        else:\n",
    "            print(\"Error\")\n",
    "\n",
    "        \n",
    "    def printLocation(self): # Add necessary arguments\n",
    "        # Add a docstring\n",
    "        \"\"\"Print id and current location of the individual as (x,y)\"\"\"\n",
    "        \n",
    "        # This method should print a text description of the \n",
    "        # individual's id and location (x,y).\n",
    "        print(\"Individual %s is located at (%f,%f).\" % (self.id,self.x,self.y))"
   ]
  },
  {
   "cell_type": "code",
   "execution_count": 14,
   "metadata": {
    "scrolled": false
   },
   "outputs": [],
   "source": [
    "# Define the population class\n",
    "\n",
    "class population:\n",
    "    # Add a docstring\n",
    "    \"\"\"Class to hold information about population.\"\"\"\n",
    "    \n",
    "    \n",
    "    def __init__(self,id=1,x=0.0,y=0.0,mapSize=30,popSize=5): # Add default values.\n",
    "        # Add a docstring\n",
    "        \"\"\"creates list of individuals in the population\"\"\"\n",
    "        \n",
    "        # This constructor should create a list of individuals in the population. The \n",
    "        # number of individuals should be equal to popSize and each individual should have\n",
    "        # a unique id. The constructor should also record the mapSize as an attribute.\n",
    "        self.mapSize = mapSize\n",
    "        self.popSize = popSize\n",
    "        \n",
    "        #Create list of individuals in the population\n",
    "        self.popIndividuals = []\n",
    "        \n",
    "        #Create individuals and add them to the population list\n",
    "        #Convert popsize to integer so forloop will accept it\n",
    "        for num in range(popSize):\n",
    "            self.popIndividuals.append(individual(id=num))\n",
    "        \n",
    "        \n",
    "    def move(self): # Add necessary arguments\n",
    "        # Add a docstring\n",
    "        \"\"\"Causes each individual to move u/d/l/r randomly.\"\"\"\n",
    "        \n",
    "        # The code in this method should use a for loop and cause each individual to \n",
    "        # move one unit up, down, left, or right. This code should call the .move() method\n",
    "        # of each individual.\n",
    "        \n",
    "        for ind in self.popIndividuals:\n",
    "            ind.move()\n",
    "                \n",
    "        \n",
    "    def listLocations(self): # Add necessary arguments\n",
    "        # Add a docstring\n",
    "        \"\"\"Prints a description of each individuals location.\"\"\"\n",
    "\n",
    "        \n",
    "        # The code in this method should use a for loop to print a text description of\n",
    "        # each individual's location. This code should call the .printLocation() method\n",
    "        # of each individual.\n",
    "        \n",
    "        for ind in self.popIndividuals:\n",
    "            ind.printLocation()\n",
    "\n",
    "        \n",
    "    def draw(self): # Add necessary arguments\n",
    "        # Add a docstring\n",
    "        \"\"\"Creates a scatterplot showing the locations of all individuals in the population.\"\"\"\n",
    "        \n",
    "        \n",
    "        # The code in this method should use the .plot() method from pyplot to \n",
    "        # create a scatterplot showing the locations of all individuals in this\n",
    "        # population. The length of the x- and y-axes should each by mapSize.\n",
    "               \n",
    "        #create coordinate list\n",
    "        xPosition = []\n",
    "        yPosition = []\n",
    "        \n",
    "        #forloop across all ind and keep a list of their coordinates\n",
    "        for ind in self.popIndividuals:\n",
    "            xPosition.append(ind.x)\n",
    "            yPosition.append(ind.y)\n",
    "    \n",
    "        #create plot and define axes\n",
    "        plt.ylabel(\"Location along y\")\n",
    "        plt.xlabel(\"Location along x\")\n",
    "        plt.axis([-0.5*self.mapSize,0.5*self.mapSize,-0.5*self.mapSize,0.5*self.mapSize])\n",
    "        plt.plot(xPosition,yPosition,'bo')\n",
    "        \n",
    "        plt.show()"
   ]
  },
  {
   "cell_type": "markdown",
   "metadata": {},
   "source": [
    "Now that we've created the individual and population classes, let's use them to create populations of individuals and watch them disperse across a map."
   ]
  },
  {
   "cell_type": "code",
   "execution_count": 16,
   "metadata": {
    "scrolled": true
   },
   "outputs": [
    {
     "name": "stdout",
     "output_type": "stream",
     "text": [
      "0\n"
     ]
    },
    {
     "data": {
      "image/png": "[encoded data removed]",
      "text/plain": [
       "<matplotlib.figure.Figure at 0x7fa92319d080>"
      ]
     },
     "metadata": {},
     "output_type": "display_data"
    },
    {
     "name": "stdout",
     "output_type": "stream",
     "text": [
      "Individual 0 is located at (1.000000,1.000000).\n",
      "Individual 1 is located at (1.000000,-1.000000).\n",
      "Individual 2 is located at (0.000000,-2.000000).\n",
      "Individual 3 is located at (-1.000000,1.000000).\n",
      "Individual 4 is located at (-1.000000,1.000000).\n",
      "Individual 5 is located at (0.000000,2.000000).\n"
     ]
    }
   ],
   "source": [
    "# Create a new population of six individuals with id numbers 0-5 with default values using a for loop\n",
    "populationOne = population(popSize=6)\n",
    "\n",
    "#test that it worked\n",
    "print(populationOne.popIndividuals[0].id)\n",
    "\n",
    "# Assign the number of time steps that individuals will move: 4\n",
    "# Use a for loop to simulate the movement of individuals for the specified number of steps.\n",
    "for num in range(4):\n",
    "    populationOne.move()    \n",
    "    \n",
    "# Use the .draw() method of the population to draw the map.\n",
    "populationOne.draw()\n",
    "\n",
    "    \n",
    "# Use the .listLocations() method to list the locations of all individuals in the population.\n",
    "populationOne.listLocations()"
   ]
  },
  {
   "cell_type": "code",
   "execution_count": 17,
   "metadata": {},
   "outputs": [
    {
     "data": {
      "image/png": "[encoded data removed]",
      "text/plain": [
       "<matplotlib.figure.Figure at 0x7fa9231eada0>"
      ]
     },
     "metadata": {},
     "output_type": "display_data"
    },
    {
     "name": "stdout",
     "output_type": "stream",
     "text": [
      "Individual 0 is located at (7.000000,1.000000).\n",
      "Individual 1 is located at (1.000000,-3.000000).\n",
      "Individual 2 is located at (0.000000,-4.000000).\n",
      "Individual 3 is located at (-2.000000,-2.000000).\n",
      "Individual 4 is located at (-5.000000,3.000000).\n",
      "Individual 5 is located at (-2.000000,-2.000000).\n",
      "Individual 6 is located at (1.000000,1.000000).\n",
      "Individual 7 is located at (2.000000,-2.000000).\n",
      "Individual 8 is located at (0.000000,-8.000000).\n",
      "Individual 9 is located at (1.000000,-1.000000).\n",
      "Individual 10 is located at (-2.000000,-4.000000).\n",
      "Individual 11 is located at (7.000000,5.000000).\n",
      "Individual 12 is located at (0.000000,-2.000000).\n",
      "Individual 13 is located at (4.000000,-2.000000).\n",
      "Individual 14 is located at (0.000000,0.000000).\n",
      "Individual 15 is located at (8.000000,-2.000000).\n",
      "Individual 16 is located at (6.000000,0.000000).\n",
      "Individual 17 is located at (0.000000,0.000000).\n",
      "Individual 18 is located at (2.000000,-2.000000).\n",
      "Individual 19 is located at (3.000000,-1.000000).\n",
      "Individual 20 is located at (-2.000000,2.000000).\n",
      "Individual 21 is located at (-1.000000,-1.000000).\n",
      "Individual 22 is located at (-7.000000,3.000000).\n",
      "Individual 23 is located at (1.000000,1.000000).\n",
      "Individual 24 is located at (1.000000,-1.000000).\n",
      "Individual 25 is located at (-3.000000,5.000000).\n",
      "Individual 26 is located at (3.000000,5.000000).\n",
      "Individual 27 is located at (4.000000,-2.000000).\n",
      "Individual 28 is located at (-3.000000,-5.000000).\n",
      "Individual 29 is located at (1.000000,-1.000000).\n",
      "Individual 30 is located at (-5.000000,5.000000).\n",
      "Individual 31 is located at (-3.000000,-5.000000).\n",
      "Individual 32 is located at (7.000000,3.000000).\n",
      "Individual 33 is located at (1.000000,-1.000000).\n",
      "Individual 34 is located at (4.000000,-4.000000).\n",
      "Individual 35 is located at (2.000000,12.000000).\n",
      "Individual 36 is located at (-4.000000,2.000000).\n",
      "Individual 37 is located at (-6.000000,0.000000).\n",
      "Individual 38 is located at (2.000000,0.000000).\n",
      "Individual 39 is located at (-3.000000,-7.000000).\n",
      "Individual 40 is located at (2.000000,-12.000000).\n",
      "Individual 41 is located at (-6.000000,-2.000000).\n",
      "Individual 42 is located at (4.000000,2.000000).\n",
      "Individual 43 is located at (0.000000,0.000000).\n",
      "Individual 44 is located at (2.000000,-4.000000).\n",
      "Individual 45 is located at (3.000000,3.000000).\n",
      "Individual 46 is located at (0.000000,0.000000).\n",
      "Individual 47 is located at (0.000000,4.000000).\n",
      "Individual 48 is located at (2.000000,-2.000000).\n",
      "Individual 49 is located at (-3.000000,3.000000).\n"
     ]
    }
   ],
   "source": [
    "# Try creating a new population, simulating the movement of individuals, drawing a map,\n",
    "# and listing the location of individuals, but provide non-default values for the mapSize\n",
    "# and popSize of the population. Also, increase the number of time steps that individuals move.\n",
    "\n",
    "#Create new population of 50 individuals and a mapSize of 60\n",
    "populationTwo = population(mapSize=60,popSize=50)\n",
    "\n",
    "#Simulate the movement of individuals for 35 steps\n",
    "for num in range(34):\n",
    "    populationTwo.move()\n",
    "    \n",
    "#Create the map\n",
    "populationTwo.draw()\n",
    "\n",
    "#List locations of individuals\n",
    "populationTwo.listLocations()"
   ]
  }
 ],
 "metadata": {
  "kernelspec": {
   "display_name": "Python 3",
   "language": "python",
   "name": "python3"
  },
  "language_info": {
   "codemirror_mode": {
    "name": "ipython",
    "version": 3
   },
   "file_extension": ".py",
   "mimetype": "text/x-python",
   "name": "python",
   "nbconvert_exporter": "python",
   "pygments_lexer": "ipython3",
   "version": "3.6.4"
  }
 },
 "nbformat": 4,
 "nbformat_minor": 4
}
