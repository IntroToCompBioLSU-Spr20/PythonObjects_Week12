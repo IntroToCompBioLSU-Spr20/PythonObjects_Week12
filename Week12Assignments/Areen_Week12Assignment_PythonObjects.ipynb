{
 "cells": [
  {
   "cell_type": "markdown",
   "metadata": {},
   "source": [
    "# Week 12 Assignment - Simulating Dispersal with Objects"
   ]
  },
  {
   "cell_type": "markdown",
   "metadata": {},
   "source": [
    "For this week's assignment, we're going to revisit the dispersal simulation that we worked on in Week 8. However, this time, we're going to use object-oriented programming. Specifically, we'll create two kinds of custom objects: `individual`s and `population`s.\n",
    "\n",
    "Each `individual` will have 3 attributes (an id number, a x-axis position, and a y-position) and 3 methods (a constructor, a method to move its position by 1 unit, and a method to print its coordinate location as x,y).\n",
    "\n",
    "Each `population` will have 2 attributes (a list of `individual`s in the `population` and a size for its map) and 4 methods (a constructor, a method to move each `individual` in the `population` 1 unit, a method to list the coordinate locations of all `individuals` in the `population`, and a method to display the locations of all `individual`s in the `population` as a scatter plot).\n",
    "\n",
    "More details are provided below."
   ]
  },
  {
   "cell_type": "code",
   "execution_count": 34,
   "metadata": {},
   "outputs": [],
   "source": [
    "# Import necessary modules\n",
    "import random\n",
    "import matplotlib.pyplot as plt "
   ]
  },
  {
   "cell_type": "code",
   "execution_count": 35,
   "metadata": {},
   "outputs": [],
   "source": [
    "# Define the individual class\n",
    "\n",
    "class individual:\n",
    "    \"\"\"Class to hold information on individuals\"\"\"\n",
    "\n",
    "        \n",
    "    def __init__(self,id,x= 0,y= 0): # Add default values for id, x, and y\n",
    "        \"\"\"Each individual will default to a positition of 0,0 \"\"\"\n",
    "        \n",
    "        # The constructor should initialize the 3 attributes based on the values\n",
    "        # passed as arguments to the constructor.\n",
    "        self.id= id\n",
    "        self.x= x\n",
    "        self.y= y \n",
    "\n",
    "    def move(self): \n",
    "        \"\"\"Method will randomly draw a position for individual to move to and update the x and y coordinates accordingly\"\"\"\n",
    "        \n",
    "        # Similar to the code from week 8, the code in this method should cause an\n",
    "        # individual to move one unit up, down, left, or right (chosen randomly).\n",
    "        # The x and y coordinates for this individual should be modified accordingly.\n",
    "        dirs = [\"u\",\"d\",\"l\",\"r\"]\n",
    "        move = random.choice(dirs) # Randomly draws a direction - u, d, l, or r\n",
    "        if move == \"u\":# Test what direction was drawn and update position accordingly\n",
    "            self.y=self.y + 1\n",
    "        elif move == \"d\":\n",
    "            self.y=self.y - 1\n",
    "        elif move == \"l\":\n",
    "            self.x=self.x - 1\n",
    "        elif move == \"r\":\n",
    "            self.x=self.x + 1\n",
    "        else:\n",
    "            print(\"Something is wrong! Direction is not u, d, l, or r.\")\n",
    "\n",
    "        \n",
    "    def printLocation(self): # Add necessary arguments\n",
    "        \"\"\"Method will print a text description of the individual's id and location in coordinates x and y\"\"\"\n",
    "        \n",
    "        # This method should print a text description of the \n",
    "        # individual's id and location (x,y).\n",
    "        print(\"The individual with id %s has the location of (%f, %f).\" % (self.id, self.x, self.y))"
   ]
  },
  {
   "cell_type": "code",
   "execution_count": 36,
   "metadata": {},
   "outputs": [],
   "source": [
    "# Define the population class\n",
    "\n",
    "class population:\n",
    "    \"\"\"Class to hold information on population\"\"\"\n",
    "    \n",
    "    \n",
    "    def __init__(self, mapSize=10, popSize=10): # Add default values.\n",
    "        \"\"\"Constructor for population class. Map size and population size are variables\"\"\"\n",
    "        \n",
    "        # This constructor should create a list of individuals in the population. The \n",
    "        # number of individuals should be equal to popSize and each individual should have\n",
    "        # a unique id. The constructor should also record the mapSize as an attribute.\n",
    "        self.mapSize= mapSize\n",
    "        self.popSize= popSize\n",
    "        \n",
    "        self.individuals=[] #create a list to store all individuals in population\n",
    "        \n",
    "        for i in range(popSize): #this will loop the number of individuals to be within the population size \n",
    "            self.individuals.append(individual(id=i+1)) #updates individual with new id\n",
    "\n",
    "        \n",
    "    def move(self): # Add necessary arguments\n",
    "        \"\"\"Constructor to move an individual within the population's position\"\"\"\n",
    "        \n",
    "        # The code in this method should use a for loop and cause each individual to \n",
    "        # move one unit up, down, left, or right. This code should call the .move() method\n",
    "        # of each individual.\n",
    "        for individual in self.individuals:\n",
    "            individual.move() #calls move method\n",
    "\n",
    "        \n",
    "    def listLocations(self): # Add necessary arguments\n",
    "        \"\"\"Printing location of each individual\"\"\"\n",
    "        \n",
    "        # The code in this method should use a for loop to print a text description of\n",
    "        # each individual's location. This code should call the .printLocation() method\n",
    "        # of each individual.\n",
    "        for individual in self.individuals:\n",
    "            individual.printLocation() #calls print.Location method\n",
    "        \n",
    "    def draw(self): # Add necessary arguments\n",
    "        \"\"\"Creates a plot to show the locations of individuals in this population\"\"\"\n",
    "        \n",
    "        # The code in this method should use the .plot() method from pyplot to \n",
    "        # create a scatterplot showing the locations of all individuals in this\n",
    "        # population. The length of the x- and y-axes should each by mapSize.\n",
    "        plt.figure() \n",
    "        for individual in self.individuals: \n",
    "            plt.scatter(x= individual.x, y= individual.y)\n",
    "            plt.title('Location After Dispersal')\n",
    "        plt.show\n",
    "        "
   ]
  },
  {
   "cell_type": "markdown",
   "metadata": {},
   "source": [
    "Now that we've created the individual and population classes, let's use them to create populations of individuals and watch them disperse across a map."
   ]
  },
  {
   "cell_type": "code",
   "execution_count": 37,
   "metadata": {},
   "outputs": [
    {
     "name": "stdout",
     "output_type": "stream",
     "text": [
      "The individual with id 1 has the location of (-2.000000, 2.000000).\n",
      "The individual with id 2 has the location of (-2.000000, -4.000000).\n",
      "The individual with id 3 has the location of (-2.000000, 4.000000).\n",
      "The individual with id 4 has the location of (-3.000000, -1.000000).\n",
      "The individual with id 5 has the location of (0.000000, -4.000000).\n",
      "The individual with id 6 has the location of (0.000000, 2.000000).\n",
      "The individual with id 7 has the location of (2.000000, 0.000000).\n",
      "The individual with id 8 has the location of (-4.000000, 0.000000).\n",
      "The individual with id 9 has the location of (-1.000000, 1.000000).\n",
      "The individual with id 10 has the location of (-1.000000, -1.000000).\n"
     ]
    },
    {
     "data": {
      "image/png": "[encoded data removed]",
      "text/plain": [
       "<matplotlib.figure.Figure at 0x7fe78637b240>"
      ]
     },
     "metadata": {},
     "output_type": "display_data"
    }
   ],
   "source": [
    "# Create a new population with default values\n",
    "pop = population()\n",
    "# Assign the number of time steps that individuals will move\n",
    "steps = 10\n",
    "# Use a for loop to simulate the movement of individuals for the specified number of steps.\n",
    "for i in range(steps):\n",
    "    pop.move()\n",
    "# Use the .draw() method of the population to draw the map.\n",
    "pop.draw()\n",
    "# Use the .listLocations() method to list the locations of all individuals in the population.\n",
    "pop.listLocations()"
   ]
  },
  {
   "cell_type": "code",
   "execution_count": 38,
   "metadata": {},
   "outputs": [
    {
     "name": "stdout",
     "output_type": "stream",
     "text": [
      "The individual with id 1 has the location of (-4.000000, 2.000000).\n",
      "The individual with id 2 has the location of (1.000000, -1.000000).\n",
      "The individual with id 3 has the location of (1.000000, -1.000000).\n",
      "The individual with id 4 has the location of (-2.000000, 6.000000).\n",
      "The individual with id 5 has the location of (-6.000000, -4.000000).\n",
      "The individual with id 6 has the location of (-2.000000, 0.000000).\n",
      "The individual with id 7 has the location of (4.000000, -6.000000).\n",
      "The individual with id 8 has the location of (1.000000, 3.000000).\n",
      "The individual with id 9 has the location of (-3.000000, 3.000000).\n",
      "The individual with id 10 has the location of (1.000000, -1.000000).\n",
      "The individual with id 11 has the location of (-1.000000, 3.000000).\n",
      "The individual with id 12 has the location of (-1.000000, -3.000000).\n",
      "The individual with id 13 has the location of (-1.000000, 3.000000).\n",
      "The individual with id 14 has the location of (0.000000, -2.000000).\n",
      "The individual with id 15 has the location of (5.000000, -1.000000).\n"
     ]
    },
    {
     "data": {
      "image/png": "[encoded data removed]",
      "text/plain": [
       "<matplotlib.figure.Figure at 0x7fe78621d7f0>"
      ]
     },
     "metadata": {},
     "output_type": "display_data"
    }
   ],
   "source": [
    "# Try creating a new population, simulating the movement of individuals, drawing a map,\n",
    "# and listing the location of individuals, but provide non-default values for the mapSize\n",
    "# and popSize of the population. Also, increase the number of time steps that individuals move.\n",
    "popNew = population(mapSize= 15, popSize= 15)\n",
    "steps= 20\n",
    "for i in range(steps):\n",
    "    popNew.move()\n",
    "popNew.draw()\n",
    "popNew.listLocations()\n"
   ]
  },
  {
   "cell_type": "code",
   "execution_count": 1,
   "metadata": {},
   "outputs": [
    {
     "ename": "SyntaxError",
     "evalue": "invalid syntax (<ipython-input-1-3d50770d72e9>, line 1)",
     "output_type": "error",
     "traceback": [
      "\u001b[0;36m  File \u001b[0;32m\"<ipython-input-1-3d50770d72e9>\"\u001b[0;36m, line \u001b[0;32m1\u001b[0m\n\u001b[0;31m    git add\u001b[0m\n\u001b[0m          ^\u001b[0m\n\u001b[0;31mSyntaxError\u001b[0m\u001b[0;31m:\u001b[0m invalid syntax\n"
     ]
    }
   ],
   "source": []
  },
  {
   "cell_type": "code",
   "execution_count": null,
   "metadata": {},
   "outputs": [],
   "source": []
  }
 ],
 "metadata": {
  "kernelspec": {
   "display_name": "Python 3",
   "language": "python",
   "name": "python3"
  },
  "language_info": {
   "codemirror_mode": {
    "name": "ipython",
    "version": 3
   },
   "file_extension": ".py",
   "mimetype": "text/x-python",
   "name": "python",
   "nbconvert_exporter": "python",
   "pygments_lexer": "ipython3",
   "version": "3.6.4"
  }
 },
 "nbformat": 4,
 "nbformat_minor": 4
}
