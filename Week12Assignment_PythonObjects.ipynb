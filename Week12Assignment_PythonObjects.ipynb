{
 "cells": [
  {
   "cell_type": "markdown",
   "metadata": {},
   "source": [
    "# Week 12 Assignment - Simulating Dispersal with Objects"
   ]
  },
  {
   "cell_type": "markdown",
   "metadata": {},
   "source": [
    "For this week's assignment, we're going to revisit the dispersal simulation that we worked on in Week 8. However, this time, we're going to use object-oriented programming. Specifically, we'll create two kinds of custom objects: `individual`s and `population`s.\n",
    "\n",
    "Each `individual` will have 3 attributes (an id number, a x-axis position, and a y-position) and 3 methods (a constructor, a method to move its position by 1 unit, and a method to print its coordinate location as x,y).\n",
    "\n",
    "Each `population` will have 2 attributes (a list of `individual`s in the `population` and a size for its map) and 4 methods (a constructor, a method to move each `individual` in the `population` 1 unit, a method to list the coordinate locations of all `individuals` in the `population`, and a method to display the locations of all `individual`s in the `population` as a scatter plot).\n",
    "\n",
    "More details are provided below."
   ]
  },
  {
   "cell_type": "code",
   "execution_count": 1,
   "metadata": {},
   "outputs": [],
   "source": [
    "# Import necessary modules\n",
    "import random\n",
    "import matplotlib.pyplot as plt"
   ]
  },
  {
   "cell_type": "code",
   "execution_count": 2,
   "metadata": {},
   "outputs": [],
   "source": [
    "class individual:\n",
    "    \"\"\"This class is of a single individual\"\"\"\n",
    "        \n",
    "        \n",
    "    def __init__(self,id = \"1\",x = 0,y = 0): # Default values for id, x, and y\n",
    "        \"\"\"Constructor that defines default values for the id, x position, and  y position\"\"\"\n",
    "        \n",
    "        self.id = id\n",
    "        self.x = x\n",
    "        self.y = y\n",
    "\n",
    "    \n",
    "    def move(self): # Add necessary arguments\n",
    "        \"\"\"Randomly moves the individual one unit up, down, left, or right\"\"\"\n",
    "        \n",
    "        dirs = [\"u\",\"d\",\"l\",\"r\"] # Directions able to be moved\n",
    "        \n",
    "        move = random.choice(dirs) # Randomly draws a direction - u, d, l, or r\n",
    "        if move == \"u\": # Test what direction was drawn and update position accordingly\n",
    "            self.y = (self.y + 1)\n",
    "        elif move == \"d\":\n",
    "            self.y = (self.y - 1)\n",
    "        elif move == \"l\":\n",
    "            self.x = (self.x - 1)\n",
    "        elif move == \"r\":\n",
    "            self.x = (self.x + 1)\n",
    "        else:\n",
    "            print(\"Something's wrong! Direction is not u, d, l, or r.\")\n",
    "\n",
    "        \n",
    "    def printLocation(self):\n",
    "        \"\"\"Prints the current location of the individual\"\"\"\n",
    "        \n",
    "        print(\"Organism %s is currently at %d,%d.\" % (self.id, self.x, self.y))"
   ]
  },
  {
   "cell_type": "code",
   "execution_count": 3,
   "metadata": {},
   "outputs": [],
   "source": [
    "class population:\n",
    "    \"\"\"A class of several individuals in a population\"\"\"\n",
    "    \n",
    "    \n",
    "    def __init__(self,mapSize = 10,popSize = 0):\n",
    "        \"\"\"Defines the population size and checks if multiple individuals are the same\"\"\"\n",
    "        \n",
    "        # This constructor should create a list of individuals in the population. The \n",
    "        # number of individuals should be equal to popSize and each individual should have\n",
    "        # a unique id. The constructor should also record the mapSize as an attribute.\n",
    "        \n",
    "        self.mapSize = mapSize\n",
    "        self.popSize = popSize\n",
    "        \n",
    "        \n",
    "        #List of Individuals\n",
    "        self.pop = [individual(id=\"1\"),individual(id=\"2\"),individual(id=\"3\"),individual(id=\"4\"),individual(id=\"5\")] \n",
    "        \n",
    "        result = False;\n",
    "        \n",
    "        if len(self.pop) > 0 :\n",
    "            result = all(indv == self.pop[0].id for indv in self.pop)\n",
    "            \n",
    "        if result :\n",
    "            print(\"One or more Individuals in the Population are the same\")     \n",
    "\n",
    "        \n",
    "    def move(self):\n",
    "        \"\"\"Moves each individual in the population randomly one unit\"\"\"\n",
    "        \n",
    "        for indv in self.pop:\n",
    "            indv.move()\n",
    "\n",
    "        \n",
    "    def listLocations(self):\n",
    "        \"\"\"Describes each individuals current location\"\"\"\n",
    "        \n",
    "        for indv in self.pop:\n",
    "            indv.printLocation()\n",
    "        \n",
    "        \n",
    "    def draw(self):\n",
    "        \"\"\"Creates a plot showing the locations of all of the individuals.\"\"\"\n",
    "        \n",
    "        plt.axis([self.mapSize*-1,self.mapSize,self.mapSize*-1,self.mapSize])\n",
    "        plt.grid(True)\n",
    "        \n",
    "        for i in range(len(self.pop)):\n",
    "            plt.scatter(self.pop[i].x,self.pop[i].y)\n",
    "            \n",
    "        plt.show()\n",
    "        "
   ]
  },
  {
   "cell_type": "markdown",
   "metadata": {},
   "source": [
    "Now that we've created the individual and population classes, let's use them to create populations of individuals and watch them disperse across a map."
   ]
  },
  {
   "cell_type": "code",
   "execution_count": 4,
   "metadata": {},
   "outputs": [
    {
     "data": {
      "image/png": "[encoded data removed]",
      "text/plain": [
       "<Figure size 432x288 with 1 Axes>"
      ]
     },
     "metadata": {
      "needs_background": "light"
     },
     "output_type": "display_data"
    },
    {
     "name": "stdout",
     "output_type": "stream",
     "text": [
      "Organism 1 is currently at 1,-3.\n",
      "Organism 2 is currently at 0,-2.\n",
      "Organism 3 is currently at -3,-3.\n",
      "Organism 4 is currently at 0,0.\n",
      "Organism 5 is currently at 2,0.\n"
     ]
    }
   ],
   "source": [
    "# Create a new population with default values\n",
    "\n",
    "\n",
    "pop1 = population()\n",
    "\n",
    "# Assign the number of time steps that individuals will move\n",
    "\n",
    "days = 10\n",
    "\n",
    "# Use a for loop to simulate the movement of individuals for the specified number of steps.\n",
    "\n",
    "for i in range(days):\n",
    "    pop1.move()\n",
    "\n",
    "# Use the .draw() method of the population to draw the map.\n",
    "\n",
    "pop1.draw()\n",
    "\n",
    "# Use the .listLocations() method to list the locations of all individuals in the population.\n",
    "\n",
    "pop1.listLocations()"
   ]
  },
  {
   "cell_type": "code",
   "execution_count": 5,
   "metadata": {},
   "outputs": [
    {
     "data": {
      "image/png": "[encoded data removed]",
      "text/plain": [
       "<Figure size 432x288 with 1 Axes>"
      ]
     },
     "metadata": {
      "needs_background": "light"
     },
     "output_type": "display_data"
    },
    {
     "name": "stdout",
     "output_type": "stream",
     "text": [
      "Organism 1 is currently at 6,-6.\n",
      "Organism 2 is currently at 0,-2.\n",
      "Organism 3 is currently at -4,-6.\n",
      "Organism 4 is currently at 1,-5.\n",
      "Organism 5 is currently at 1,5.\n"
     ]
    }
   ],
   "source": [
    "# Try creating a new population, simulating the movement of individuals, drawing a map,\n",
    "# and listing the location of individuals, but provide non-default values for the mapSize\n",
    "# and popSize of the population. Also, increase the number of time steps that individuals move.\n",
    "\n",
    "days2 = 50\n",
    "\n",
    "pop2 = population(mapSize=(days2/2))\n",
    "                  \n",
    "                  \n",
    "for i in range(days2):\n",
    "    pop2.move()\n",
    "pop2.draw()\n",
    "pop2.listLocations()"
   ]
  }
 ],
 "metadata": {
  "kernelspec": {
   "display_name": "Python 3",
   "language": "python",
   "name": "python3"
  },
  "language_info": {
   "codemirror_mode": {
    "name": "ipython",
    "version": 3
   },
   "file_extension": ".py",
   "mimetype": "text/x-python",
   "name": "python",
   "nbconvert_exporter": "python",
   "pygments_lexer": "ipython3",
   "version": "3.7.1"
  }
 },
 "nbformat": 4,
 "nbformat_minor": 4
}
